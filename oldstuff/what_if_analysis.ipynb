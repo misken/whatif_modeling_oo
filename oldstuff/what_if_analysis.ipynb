{
 "cells": [
  {
   "cell_type": "code",
   "execution_count": 1,
   "metadata": {},
   "outputs": [],
   "source": [
    "import numpy as np\n",
    "import pandas as pd\n",
    "import matplotlib.pyplot as plt\n",
    "from mpl_toolkits.mplot3d import Axes3D\n",
    "import seaborn as sns\n"
   ]
  },
  {
   "cell_type": "code",
   "execution_count": 2,
   "metadata": {},
   "outputs": [],
   "source": [
    "import copy"
   ]
  },
  {
   "cell_type": "code",
   "execution_count": 3,
   "metadata": {},
   "outputs": [],
   "source": [
    "from functools import partial\n",
    "from scipy import optimize"
   ]
  },
  {
   "cell_type": "code",
   "execution_count": 4,
   "metadata": {},
   "outputs": [],
   "source": [
    "%matplotlib inline"
   ]
  },
  {
   "cell_type": "code",
   "execution_count": null,
   "metadata": {},
   "outputs": [],
   "source": []
  },
  {
   "cell_type": "markdown",
   "metadata": {},
   "source": [
    "https://amypeniston.com/ditching-excel-for-python/\n",
    "\n",
    "https://quantecon.org/python-lectures/ - tons of great example notebook. Done by top economists (Sargent). Mix of OO and non-OO just based on what makes the most sense. No need to be dogmatic.\n",
    "\n",
    "Journal of Open Source Education - https://jose.theoj.org/"
   ]
  },
  {
   "cell_type": "markdown",
   "metadata": {},
   "source": [
    "# Excel style \"What if?\" analysis with Python\n"
   ]
  },
  {
   "cell_type": "markdown",
   "metadata": {},
   "source": [
    "## A little background and a question\n",
    "\n",
    "Excel is widely used for building and using models of business problems to explore the impact of various model inputs on key outputs. Built in \"what if?\" tools such as Excel [Data Tables](https://support.microsoft.com/en-us/office/calculate-multiple-results-by-using-a-data-table-e95e2487-6ca6-4413-ad12-77542a5ea50b) and [Goal Seek](https://support.microsoft.com/en-us/office/use-goal-seek-to-find-the-result-you-want-by-adjusting-an-input-value-320cb99e-f4a4-417f-b1c3-4f369d6e66c7) are well known to power spreadsheet modelers. How might we do similar modeling and analysis using Python? \n",
    "\n",
    "While Python has been gaining momentum in the business analytics world, it is often used for data wrangling, analysis and visualization of tablular data using tools like pandas and matplotlib or Seaborn. I use Python all the time for such tasks. But, it got me to thinking. What about those things for which Excel is well suited such as building formula based models and doing sensitivity analysis on these models? What would those look like in Python?\n",
    "\n",
    "For example, here's a high level screenshot of a model that I assign for homework in my [MIS 4460/5460 Business Analytics class]() (a spreadsheet based modeling class).\n",
    "It's a really simple model in which we are selling a single product that we produce. There is a fixed cost to producing the product as well as a variable production cost per unit. We can sell the product for some price and we believe that demand for the product is related to the selling price through a power function. Let's assume for now that we have sufficient capacity to produce to demand and that all inputs are deterministic (we'll deal with simulating uncertainty later in this document).\n",
    "\n",
    "TODO: Insert screenshot\n",
    "\n",
    "The details aren't so important right now as is the overall structure of the model. There's a few key inputs and some pretty straightforward formulas for computing cost, revenue and profit. Notice the 1-way Data Table being used to explore how profit varies for different selling prices. There's a graph driven by the Data Table and some Text Boxes used for annotation and summeary interpretative comments. There's a button that launches Goal Seek to find the break even selling price and a 2-way Data Table to explore the joint effect of selling price and variable cost. Classic Excel modeling stuff. How might we go about building a similar model using Python?  "
   ]
  },
  {
   "cell_type": "markdown",
   "metadata": {},
   "source": [
    "What if we wanted to push it a little further and model some of the key inputs with probability distributions to reflect our uncertainty about their values? In the Excel world, we might use add-ins such as @Risk which allow uncertain quantities to be directly modeled with probability distributions. For example, we might have a key input such as the exponent in the power function that relates selling price to demand that is highly uncertain. By modeling it with a probability distribution and then sampling from that distribution many times (essentially by recalcing the spreadsheet) we can generate a bunch of possible values for key outputs (e.g. profit) and use statistics to summarize these outputs using things like histograms and summary stats. Often this type of simulation model is referred to as a *Monte-Carlo* model to suggest repeated sampling from one or more probability distributions within an otherwise pretty static model. If you want to see such models in action, check out my [Simulation Modeling with Excel page](http://www.sba.oakland.edu/faculty/isken/courses/mis5460_w21/simulation.html) from my Business Analytics course. Again, how might we do this with Python?"
   ]
  },
  {
   "cell_type": "markdown",
   "metadata": {},
   "source": [
    "In the remainder of this document, we'll explore these questions and along the way introduce some basic object-oriented (OO) programming concepts and other slightly more advanced Python techniques. This is aimed at those who might have a strong Excel based background but only a basic familiarity with Python programming. We are going to use a slightly different problem example than the one I've discussed above (we'll save that one for an \"exercise for the motivated reader\"). I've structured things as follows:\n",
    "\n",
    "* The bookstore problem\n",
    "    - Non-OO model for the bookstore problem\n",
    "    - 1-, 2-, n-way Data Tables with the non-OO model\n",
    "* Everything is an object in Python\n",
    "* An OO model for the bookstore problem\n",
    "    - 1-, 2-, n-way data tables with the OO model\n",
    "* Goal Seek\n",
    "    - a non-OO hornet's nest\n",
    "    - the OO approach\n",
    "* Monte-Carlo simulation\n",
    "* Concluding thoughts\n"
   ]
  },
  {
   "cell_type": "markdown",
   "metadata": {},
   "source": [
    "## Bookstore model\n",
    "\n",
    "This example is based on one in the spreadsheet modeling textbook(s) I've used in my classes since 2001. I started out using Practical Management Science by Winston and Albright and switched to their Business Analytics: Data Analysis and Decision Making (Albright and Winston) around 2013ish. In both books, they introduce the \"Walton Bookstore\" problem in the chapter on Monte-Carlo simulation. Here's the basic problem (with a few modifications):\n",
    "\n",
    "* we have to place an order for a perishable product (e.g. a calendar)\n",
    "* there's a known unit cost for each one ordered\n",
    "* we have a known selling price\n",
    "* demand is uncertain but we can model it with some simple probability distribution\n",
    "* for each unsold item, we can get a partial refund of our unit cost\n",
    "* we need to select the order quantity for our one order for the year; orders can only be in multiples of 25\n"
   ]
  },
  {
   "cell_type": "markdown",
   "metadata": {},
   "source": [
    "### Base model - non-OO approach\n",
    "Starting simple, let's create some initialized variables for the base inputs."
   ]
  },
  {
   "cell_type": "code",
   "execution_count": 5,
   "metadata": {},
   "outputs": [],
   "source": [
    "# Base inputs\n",
    "unit_cost = 7.50\n",
    "selling_price = 10.00\n",
    "unit_refund = 2.50"
   ]
  },
  {
   "cell_type": "markdown",
   "metadata": {},
   "source": [
    "Assume we've used historical data to estimate the mean and standard deviation of demand. Furthermore, let's pretend that a histogram revealed a relatively normal looking distribution. However, we are going to start by:\n",
    "\n",
    "* assuming away the uncertainty,\n",
    "* treat demand as deterministic using the mean,\n",
    "* we'll do some sensitivity analysis to the demand.\n",
    "\n",
    "Later, we'll use Monte-Carlo simulation with normally distribution demand."
   ]
  },
  {
   "cell_type": "code",
   "execution_count": 6,
   "metadata": {},
   "outputs": [],
   "source": [
    "# Demand parameters\n",
    "demand_mean = 193\n",
    "demand_sd = 40\n",
    "\n",
    "# Deterministic model\n",
    "demand = demand_mean"
   ]
  },
  {
   "cell_type": "markdown",
   "metadata": {},
   "source": [
    "Finally, let's set the initial order quantity. This will be the variable we'll focus on in the sensitivity analysis (along with demand). Of course, if we pretend that we know demand is really equal to 193, then we'd only consider ordering 175 or 200 and would pick the one leading to higher profit. Let's set it to 200."
   ]
  },
  {
   "cell_type": "code",
   "execution_count": 7,
   "metadata": {},
   "outputs": [],
   "source": [
    "order_quantity = 200"
   ]
  },
  {
   "cell_type": "markdown",
   "metadata": {},
   "source": [
    "Now we can compute the various cost and revenue components and get to the bottom line profit."
   ]
  },
  {
   "cell_type": "code",
   "execution_count": 8,
   "metadata": {},
   "outputs": [],
   "source": [
    "order_cost = unit_cost * order_quantity\n",
    "sales_revenue = min(order_quantity, demand) * selling_price\n",
    "refund_revenue = max(0, order_quantity - demand) * unit_refund\n",
    "profit = sales_revenue + refund_revenue - order_cost"
   ]
  },
  {
   "cell_type": "code",
   "execution_count": 9,
   "metadata": {},
   "outputs": [
    {
     "name": "stdout",
     "output_type": "stream",
     "text": [
      "447.5\n"
     ]
    }
   ],
   "source": [
    "print(profit)"
   ]
  },
  {
   "cell_type": "markdown",
   "metadata": {},
   "source": [
    "Of course, working in a Jupyter notebook is different than working in an Excel workbook. If we modify one of the base input values, the value of `profit` is **not** going to magically update."
   ]
  },
  {
   "cell_type": "code",
   "execution_count": 10,
   "metadata": {},
   "outputs": [
    {
     "name": "stdout",
     "output_type": "stream",
     "text": [
      "447.5\n"
     ]
    }
   ],
   "source": [
    "unit_cost = 8.00\n",
    "print(profit)"
   ]
  },
  {
   "cell_type": "markdown",
   "metadata": {},
   "source": [
    "We either need to:\n",
    "\n",
    "* rerun the code cell up above that computes the cost, revenue and profit, \n",
    "* or make the unit cost change up above when we first initialized and rerun all the cells,\n",
    "* or take a different approach...\n",
    "\n",
    "Since it feels like we are going to want to compute profit for different combinations of base input values, it makes sense to create a function to compute it. We'll do that eventually, but let's keep going with this simplistic approach for a bit longer and learn some things about working with vectors."
   ]
  },
  {
   "cell_type": "code",
   "execution_count": 11,
   "metadata": {},
   "outputs": [
    {
     "name": "stdout",
     "output_type": "stream",
     "text": [
      "Order Cost        1500.00 \n",
      "Sales Revenue     1930.00 \n",
      "Refund              17.50 \n",
      "Profit             447.50\n"
     ]
    }
   ],
   "source": [
    "# Reset entire model\n",
    "unit_cost = 7.50\n",
    "selling_price = 10.00\n",
    "unit_refund = 2.50\n",
    "\n",
    "demand = 193\n",
    "\n",
    "order_quantity = 200\n",
    "\n",
    "order_cost = unit_cost * order_quantity\n",
    "sales_revenue = min(order_quantity, demand) * selling_price\n",
    "refund_revenue = max(0, order_quantity - demand) * unit_refund\n",
    "profit = sales_revenue + refund_revenue - order_cost\n",
    "\n",
    "message = f\"{'Order Cost':15}{order_cost:10.2f} \\n\" \\\n",
    "          f\"{'Sales Revenue':15}{sales_revenue:10.2f} \\n\" \\\n",
    "          f\"{'Refund':15}{refund_revenue:10.2f} \\n\" \\\n",
    "          f\"{'Profit':15}{profit:10.2f}\"\n",
    "\n",
    "print(message) "
   ]
  },
  {
   "cell_type": "markdown",
   "metadata": {},
   "source": [
    "Notice we've used Python newish approach to formatting strings called [f-strings](https://realpython.com/python-f-strings/). See https://pyformat.info/ for the basics on the format specification (using examples comparing the old % style formatting versus the newer `str.format()` approach) or the [official docs for all the gory details](https://docs.python.org/3/library/string.html#format-specification-mini-language)."
   ]
  },
  {
   "cell_type": "code",
   "execution_count": null,
   "metadata": {},
   "outputs": [],
   "source": []
  },
  {
   "cell_type": "markdown",
   "metadata": {},
   "source": [
    "### Sensitivity analysis analogous to a 1-way Data Table\n",
    "\n",
    "To compute `profit` for several different values of `order_quantity`, in Excel we could do a 1-way Data Table. It would give us something like this:"
   ]
  },
  {
   "cell_type": "markdown",
   "metadata": {},
   "source": [
    "TODO: Insert screenshot of 1-way Data Table."
   ]
  },
  {
   "cell_type": "markdown",
   "metadata": {},
   "source": [
    "In Python, we could set `order_quantity` equal to a vector and then recompute profit. Our model should spit out a vector of profit values corresponding to the order quantities in our `order_quantity` vector. The numpy function [arange](https://numpy.org/doc/stable/reference/generated/numpy.arange.html) can be used to create the vector."
   ]
  },
  {
   "cell_type": "code",
   "execution_count": 12,
   "metadata": {},
   "outputs": [
    {
     "name": "stdout",
     "output_type": "stream",
     "text": [
      "[ 50  75 100 125 150 175 200 225 250 275 300]\n"
     ]
    }
   ],
   "source": [
    "order_quantity = np.arange(start=50, stop=301, step=25)\n",
    "print(order_quantity)"
   ]
  },
  {
   "cell_type": "markdown",
   "metadata": {},
   "source": [
    "**QUESTION** Why do we set `stop=301` instead of 300?"
   ]
  },
  {
   "cell_type": "code",
   "execution_count": 13,
   "metadata": {},
   "outputs": [
    {
     "name": "stdout",
     "output_type": "stream",
     "text": [
      "[125.  187.5 250.  312.5 375.  437.5 447.5 322.5 197.5  72.5 -52.5]\n"
     ]
    }
   ],
   "source": [
    "order_cost = unit_cost * order_quantity\n",
    "sales_revenue = np.minimum(order_quantity, demand) * selling_price\n",
    "refund_revenue = np.maximum(0, order_quantity - demand) * unit_refund\n",
    "profit = sales_revenue + refund_revenue - order_cost\n",
    "print(profit)"
   ]
  },
  {
   "cell_type": "markdown",
   "metadata": {},
   "source": [
    "We can't just use min with a scalar (demand) compared to a vector (order_quantity). Need to use numpy functions since they will do the necessary [broadcasting](https://numpy.org/doc/stable/user/basics.broadcasting.html) of demand values to fill out a vector the same size as the `order_quantity` vector. In R, broadcasting is usually referred to as *recycling*."
   ]
  },
  {
   "cell_type": "code",
   "execution_count": 14,
   "metadata": {},
   "outputs": [
    {
     "data": {
      "text/plain": [
       "array([ 50,  75, 100, 125, 150, 175, 193, 193, 193, 193, 193])"
      ]
     },
     "execution_count": 14,
     "metadata": {},
     "output_type": "execute_result"
    }
   ],
   "source": [
    "np.minimum(order_quantity, demand)"
   ]
  },
  {
   "cell_type": "markdown",
   "metadata": {},
   "source": [
    "min(order_quantity, demand)\n",
    "\n",
    "---------------------------------------------------------------------------\n",
    "ValueError                                Traceback (most recent call last)\n",
    "<ipython-input-42-675af9b521e5> in <module>\n",
    "----> 1 min(order_quantity, demand)\n",
    "\n",
    "ValueError: The truth value of an array with more than one element is ambiguous. Use a.any() or a.all()"
   ]
  },
  {
   "cell_type": "code",
   "execution_count": 15,
   "metadata": {},
   "outputs": [
    {
     "data": {
      "image/png": "[encoded data removed]",
      "text/plain": [
       "<Figure size 432x288 with 1 Axes>"
      ]
     },
     "metadata": {
      "needs_background": "light"
     },
     "output_type": "display_data"
    }
   ],
   "source": [
    "plt.plot(order_quantity, profit, label=\"Profit\")\n",
    "plt.xlabel('Order Quantity')\n",
    "plt.ylabel('Profit')\n",
    "plt.legend()\n",
    "plt.show()"
   ]
  },
  {
   "cell_type": "markdown",
   "metadata": {},
   "source": [
    "**QUESTION**\n",
    "What about a 2-way Data Table? Why can't we just set one of the other inputs (e.g. demand) to a vector and do the same thing we did above?"
   ]
  },
  {
   "cell_type": "markdown",
   "metadata": {},
   "source": [
    "One approach is to create a profit function that we can call from within a list comprehension."
   ]
  },
  {
   "cell_type": "code",
   "execution_count": 16,
   "metadata": {},
   "outputs": [],
   "source": [
    "def bookstore_profit(unit_cost, selling_price, unit_refund, order_quantity, demand):\n",
    "    '''\n",
    "    Compute profit in bookstore model\n",
    "    '''\n",
    "    order_cost = unit_cost * order_quantity\n",
    "    sales_revenue = np.minimum(order_quantity, demand) * selling_price\n",
    "    refund_revenue = np.maximum(0, order_quantity - demand)\n",
    "    profit = sales_revenue + refund_revenue - order_cost\n",
    "    return profit"
   ]
  },
  {
   "cell_type": "markdown",
   "metadata": {},
   "source": [
    "A list comprehension can be used to create an n-way Data Table. Here's a 2-way with demand and order quantity - the other inputs are held constant at their current values and the `bookstore_profit` function is used to compute profit. The list comprehension will generate a list of tuples, (demand, order quantity, profit). To facilitate further analysis, we'll create a pandas DataFrame from this list."
   ]
  },
  {
   "cell_type": "code",
   "execution_count": 17,
   "metadata": {},
   "outputs": [],
   "source": [
    "demand_range = np.arange(50, 301, 5)\n",
    "order_quantity_range = np.arange(50, 301, 25)"
   ]
  },
  {
   "cell_type": "code",
   "execution_count": 18,
   "metadata": {},
   "outputs": [
    {
     "data": {
      "text/html": [
       "<div>\n",
       "<style scoped>\n",
       "    .dataframe tbody tr th:only-of-type {\n",
       "        vertical-align: middle;\n",
       "    }\n",
       "\n",
       "    .dataframe tbody tr th {\n",
       "        vertical-align: top;\n",
       "    }\n",
       "\n",
       "    .dataframe thead th {\n",
       "        text-align: right;\n",
       "    }\n",
       "</style>\n",
       "<table border=\"1\" class=\"dataframe\">\n",
       "  <thead>\n",
       "    <tr style=\"text-align: right;\">\n",
       "      <th></th>\n",
       "      <th>Demand</th>\n",
       "      <th>OrderQuantity</th>\n",
       "      <th>Profit</th>\n",
       "    </tr>\n",
       "  </thead>\n",
       "  <tbody>\n",
       "    <tr>\n",
       "      <th>0</th>\n",
       "      <td>50</td>\n",
       "      <td>50</td>\n",
       "      <td>125.0</td>\n",
       "    </tr>\n",
       "    <tr>\n",
       "      <th>1</th>\n",
       "      <td>50</td>\n",
       "      <td>75</td>\n",
       "      <td>-37.5</td>\n",
       "    </tr>\n",
       "    <tr>\n",
       "      <th>2</th>\n",
       "      <td>50</td>\n",
       "      <td>100</td>\n",
       "      <td>-200.0</td>\n",
       "    </tr>\n",
       "    <tr>\n",
       "      <th>3</th>\n",
       "      <td>50</td>\n",
       "      <td>125</td>\n",
       "      <td>-362.5</td>\n",
       "    </tr>\n",
       "    <tr>\n",
       "      <th>4</th>\n",
       "      <td>50</td>\n",
       "      <td>150</td>\n",
       "      <td>-525.0</td>\n",
       "    </tr>\n",
       "    <tr>\n",
       "      <th>5</th>\n",
       "      <td>50</td>\n",
       "      <td>175</td>\n",
       "      <td>-687.5</td>\n",
       "    </tr>\n",
       "    <tr>\n",
       "      <th>6</th>\n",
       "      <td>50</td>\n",
       "      <td>200</td>\n",
       "      <td>-850.0</td>\n",
       "    </tr>\n",
       "    <tr>\n",
       "      <th>7</th>\n",
       "      <td>50</td>\n",
       "      <td>225</td>\n",
       "      <td>-1012.5</td>\n",
       "    </tr>\n",
       "    <tr>\n",
       "      <th>8</th>\n",
       "      <td>50</td>\n",
       "      <td>250</td>\n",
       "      <td>-1175.0</td>\n",
       "    </tr>\n",
       "    <tr>\n",
       "      <th>9</th>\n",
       "      <td>50</td>\n",
       "      <td>275</td>\n",
       "      <td>-1337.5</td>\n",
       "    </tr>\n",
       "    <tr>\n",
       "      <th>10</th>\n",
       "      <td>50</td>\n",
       "      <td>300</td>\n",
       "      <td>-1500.0</td>\n",
       "    </tr>\n",
       "    <tr>\n",
       "      <th>11</th>\n",
       "      <td>55</td>\n",
       "      <td>50</td>\n",
       "      <td>125.0</td>\n",
       "    </tr>\n",
       "    <tr>\n",
       "      <th>12</th>\n",
       "      <td>55</td>\n",
       "      <td>75</td>\n",
       "      <td>7.5</td>\n",
       "    </tr>\n",
       "    <tr>\n",
       "      <th>13</th>\n",
       "      <td>55</td>\n",
       "      <td>100</td>\n",
       "      <td>-155.0</td>\n",
       "    </tr>\n",
       "    <tr>\n",
       "      <th>14</th>\n",
       "      <td>55</td>\n",
       "      <td>125</td>\n",
       "      <td>-317.5</td>\n",
       "    </tr>\n",
       "    <tr>\n",
       "      <th>15</th>\n",
       "      <td>55</td>\n",
       "      <td>150</td>\n",
       "      <td>-480.0</td>\n",
       "    </tr>\n",
       "    <tr>\n",
       "      <th>16</th>\n",
       "      <td>55</td>\n",
       "      <td>175</td>\n",
       "      <td>-642.5</td>\n",
       "    </tr>\n",
       "    <tr>\n",
       "      <th>17</th>\n",
       "      <td>55</td>\n",
       "      <td>200</td>\n",
       "      <td>-805.0</td>\n",
       "    </tr>\n",
       "    <tr>\n",
       "      <th>18</th>\n",
       "      <td>55</td>\n",
       "      <td>225</td>\n",
       "      <td>-967.5</td>\n",
       "    </tr>\n",
       "    <tr>\n",
       "      <th>19</th>\n",
       "      <td>55</td>\n",
       "      <td>250</td>\n",
       "      <td>-1130.0</td>\n",
       "    </tr>\n",
       "    <tr>\n",
       "      <th>20</th>\n",
       "      <td>55</td>\n",
       "      <td>275</td>\n",
       "      <td>-1292.5</td>\n",
       "    </tr>\n",
       "    <tr>\n",
       "      <th>21</th>\n",
       "      <td>55</td>\n",
       "      <td>300</td>\n",
       "      <td>-1455.0</td>\n",
       "    </tr>\n",
       "    <tr>\n",
       "      <th>22</th>\n",
       "      <td>60</td>\n",
       "      <td>50</td>\n",
       "      <td>125.0</td>\n",
       "    </tr>\n",
       "    <tr>\n",
       "      <th>23</th>\n",
       "      <td>60</td>\n",
       "      <td>75</td>\n",
       "      <td>52.5</td>\n",
       "    </tr>\n",
       "    <tr>\n",
       "      <th>24</th>\n",
       "      <td>60</td>\n",
       "      <td>100</td>\n",
       "      <td>-110.0</td>\n",
       "    </tr>\n",
       "  </tbody>\n",
       "</table>\n",
       "</div>"
      ],
      "text/plain": [
       "    Demand  OrderQuantity  Profit\n",
       "0       50             50   125.0\n",
       "1       50             75   -37.5\n",
       "2       50            100  -200.0\n",
       "3       50            125  -362.5\n",
       "4       50            150  -525.0\n",
       "5       50            175  -687.5\n",
       "6       50            200  -850.0\n",
       "7       50            225 -1012.5\n",
       "8       50            250 -1175.0\n",
       "9       50            275 -1337.5\n",
       "10      50            300 -1500.0\n",
       "11      55             50   125.0\n",
       "12      55             75     7.5\n",
       "13      55            100  -155.0\n",
       "14      55            125  -317.5\n",
       "15      55            150  -480.0\n",
       "16      55            175  -642.5\n",
       "17      55            200  -805.0\n",
       "18      55            225  -967.5\n",
       "19      55            250 -1130.0\n",
       "20      55            275 -1292.5\n",
       "21      55            300 -1455.0\n",
       "22      60             50   125.0\n",
       "23      60             75    52.5\n",
       "24      60            100  -110.0"
      ]
     },
     "execution_count": 18,
     "metadata": {},
     "output_type": "execute_result"
    }
   ],
   "source": [
    "# Create data table (as a list of tuples)\n",
    "data_table_1 = [(d, oq, bookstore_profit(unit_cost, selling_price, unit_refund, oq, d)) \n",
    "                 for d in demand_range for oq in order_quantity_range]\n",
    "\n",
    "# Convert to dataframe\n",
    "dtbl_1_df = pd.DataFrame(data_table_1, columns=['Demand', 'OrderQuantity', 'Profit'])\n",
    "dtbl_1_df.head(25)"
   ]
  },
  {
   "cell_type": "markdown",
   "metadata": {},
   "source": [
    "TODO: Describe plot. Fix legend placement."
   ]
  },
  {
   "cell_type": "code",
   "execution_count": 19,
   "metadata": {},
   "outputs": [
    {
     "data": {
      "text/plain": [
       "<matplotlib.axes._subplots.AxesSubplot at 0x7f8fb8ea63a0>"
      ]
     },
     "execution_count": 19,
     "metadata": {},
     "output_type": "execute_result"
    },
    {
     "data": {
      "image/png": "[encoded data removed]",
      "text/plain": [
       "<Figure size 432x288 with 1 Axes>"
      ]
     },
     "metadata": {},
     "output_type": "display_data"
    }
   ],
   "source": [
    "sns.set_style(\"whitegrid\")\n",
    "\n",
    "sns.scatterplot(x=\"Demand\", y=\"OrderQuantity\", hue=\"Profit\", data=dtbl_1_df)"
   ]
  },
  {
   "cell_type": "markdown",
   "metadata": {},
   "source": [
    "https://matplotlib.org/mpl_toolkits/mplot3d/tutorial.html#mplot3d-tutorial"
   ]
  },
  {
   "cell_type": "code",
   "execution_count": 20,
   "metadata": {},
   "outputs": [
    {
     "data": {
      "image/png": "[encoded data removed]",
      "text/plain": [
       "<Figure size 432x288 with 1 Axes>"
      ]
     },
     "metadata": {},
     "output_type": "display_data"
    }
   ],
   "source": [
    "# Make the plot \n",
    "fig = plt.figure()\n",
    "ax = fig.add_subplot(111, projection='3d')\n",
    "ax.scatter(dtbl_1_df['OrderQuantity'], dtbl_1_df['Demand'], dtbl_1_df['Profit'], \n",
    "                cmap=plt.cm.viridis)\n",
    "\n",
    "ax.set_xlabel('OrderQuantity')\n",
    "ax.set_ylabel('Demand')\n",
    "ax.set_zlabel('Profit')\n",
    "\n",
    "plt.show()"
   ]
  },
  {
   "cell_type": "markdown",
   "metadata": {},
   "source": [
    "## Everything is an object in Python\n",
    "Objects are the \"things\" we create, use, change and share in our Python programs. Objects contain both data about the object and functions for using and changing the object. If you've programmed in Excel VBA, you've already worked with objects and their various properties (data) and methods (functions). For example, consider a `Worksheet` object. One of its properties is `Name` and we can reference it with `Worksheet.Name`. To copy a worksheet, we use `Worksheet.Copy` - `Copy` is a method.\n",
    "\n",
    "### List objects\n",
    "\n",
    "In Python, everything is an object and we've already been using objects in this Notebook. It's probably not surprising that something like an array or a list are objects. Let's see what kind of objects they are."
   ]
  },
  {
   "cell_type": "code",
   "execution_count": 21,
   "metadata": {},
   "outputs": [
    {
     "data": {
      "text/plain": [
       "numpy.ndarray"
      ]
     },
     "execution_count": 21,
     "metadata": {},
     "output_type": "execute_result"
    }
   ],
   "source": [
    "type(order_quantity_range)"
   ]
  },
  {
   "cell_type": "code",
   "execution_count": 22,
   "metadata": {},
   "outputs": [
    {
     "data": {
      "text/plain": [
       "list"
      ]
     },
     "execution_count": 22,
     "metadata": {},
     "output_type": "execute_result"
    }
   ],
   "source": [
    "type(data_table_1)"
   ]
  },
  {
   "cell_type": "markdown",
   "metadata": {},
   "source": [
    "Let's explore some list methods. To start, we will create a list based on the `order_quantity_range` and then do a few things with the new list."
   ]
  },
  {
   "cell_type": "code",
   "execution_count": 23,
   "metadata": {},
   "outputs": [
    {
     "name": "stdout",
     "output_type": "stream",
     "text": [
      "[50, 75, 100, 125, 150, 175, 200, 225, 250, 275, 300]\n",
      "<class 'list'>\n"
     ]
    }
   ],
   "source": [
    "oq_list = list(order_quantity_range)\n",
    "print(oq_list)\n",
    "print(type(oq_list))"
   ]
  },
  {
   "cell_type": "markdown",
   "metadata": {},
   "source": [
    "A Python `class` is the template from which we create individual objects, called *instances* in our programs. The `list` class lets us create list objects. Python has many built in classes (objects) with numerous predefined methods and properties. "
   ]
  },
  {
   "cell_type": "code",
   "execution_count": 24,
   "metadata": {},
   "outputs": [
    {
     "name": "stdout",
     "output_type": "stream",
     "text": [
      "[50, 75, 100, 125, 150, 175, 200, 225, 250, 275, 300, 350]\n"
     ]
    }
   ],
   "source": [
    "# Append a new item to end of list\n",
    "oq_list.append(350)\n",
    "print(oq_list)"
   ]
  },
  {
   "cell_type": "code",
   "execution_count": 25,
   "metadata": {},
   "outputs": [
    {
     "name": "stdout",
     "output_type": "stream",
     "text": [
      "[350, 300, 275, 250, 225, 200, 175, 150, 125, 100, 75, 50]\n"
     ]
    }
   ],
   "source": [
    "# Reverse the order of our list\n",
    "oq_list.reverse()\n",
    "print(oq_list)"
   ]
  },
  {
   "cell_type": "code",
   "execution_count": 26,
   "metadata": {},
   "outputs": [
    {
     "name": "stdout",
     "output_type": "stream",
     "text": [
      "[50, 75, 100, 125, 150, 175, 200, 225, 250, 275, 300, 350]\n"
     ]
    }
   ],
   "source": [
    "# Reverse it back\n",
    "oq_list.reverse()\n",
    "print(oq_list)"
   ]
  },
  {
   "cell_type": "markdown",
   "metadata": {},
   "source": [
    "Notice that when we used the `append` and `reverse` functions we need to include parentheses just as we do when calling any function. In this case, we aren't passing any arguments into the function, but often we will. "
   ]
  },
  {
   "cell_type": "code",
   "execution_count": 27,
   "metadata": {},
   "outputs": [
    {
     "name": "stdout",
     "output_type": "stream",
     "text": [
      "[350, 300, 275, 250, 225, 200, 175, 150, 125, 100, 75, 50]\n"
     ]
    }
   ],
   "source": [
    "# Use sort() method to do a reverse sort of our list\n",
    "oq_list.sort(reverse=True)\n",
    "print(oq_list)"
   ]
  },
  {
   "cell_type": "markdown",
   "metadata": {},
   "source": [
    "What if we forget the parentheses?"
   ]
  },
  {
   "cell_type": "code",
   "execution_count": 28,
   "metadata": {},
   "outputs": [
    {
     "data": {
      "text/plain": [
       "<function list.reverse()>"
      ]
     },
     "execution_count": 28,
     "metadata": {},
     "output_type": "execute_result"
    }
   ],
   "source": [
    "oq_list.reverse"
   ]
  },
  {
   "cell_type": "markdown",
   "metadata": {},
   "source": [
    "Python just tells us that `reverse` is a function. It's also telling us that `reverse`, a function, is also an object. Yes, functions are objects, too, in Python. That means we can do things like pass them to other functions or modify some of their properties. Why would we ever want to do this? We'll get to that."
   ]
  },
  {
   "cell_type": "markdown",
   "metadata": {},
   "source": [
    "I'm sure you already know how to get items from a list by their index number."
   ]
  },
  {
   "cell_type": "code",
   "execution_count": 29,
   "metadata": {},
   "outputs": [
    {
     "data": {
      "text/plain": [
       "350"
      ]
     },
     "execution_count": 29,
     "metadata": {},
     "output_type": "execute_result"
    }
   ],
   "source": [
    "# Get the first element from the list\n",
    "oq_list[0]"
   ]
  },
  {
   "cell_type": "markdown",
   "metadata": {},
   "source": [
    "The bracket notation is really just a convenient shorthand for calling one of the built in methods of list objects. We can use Python `dir` function to see all of the attributes of any object."
   ]
  },
  {
   "cell_type": "code",
   "execution_count": 30,
   "metadata": {},
   "outputs": [
    {
     "name": "stdout",
     "output_type": "stream",
     "text": [
      "['__add__', '__class__', '__contains__', '__delattr__', '__delitem__', '__dir__', '__doc__', '__eq__', '__format__', '__ge__', '__getattribute__', '__getitem__', '__gt__', '__hash__', '__iadd__', '__imul__', '__init__', '__init_subclass__', '__iter__', '__le__', '__len__', '__lt__', '__mul__', '__ne__', '__new__', '__reduce__', '__reduce_ex__', '__repr__', '__reversed__', '__rmul__', '__setattr__', '__setitem__', '__sizeof__', '__str__', '__subclasshook__', 'append', 'clear', 'copy', 'count', 'extend', 'index', 'insert', 'pop', 'remove', 'reverse', 'sort']\n"
     ]
    }
   ],
   "source": [
    "print(dir(oq_list))"
   ]
  },
  {
   "cell_type": "markdown",
   "metadata": {},
   "source": [
    "Many of the attributes have both leading and trailing double underscores, known as \"dunder\" attributes. These are just special names reserved by Python for particular uses. You'll see use of both single and double underscores, as both leading and trailing characters. To dig deeper, check out https://dbader.org/blog/meaning-of-underscores-in-python."
   ]
  },
  {
   "cell_type": "markdown",
   "metadata": {},
   "source": [
    "In our example, using brackets to access a list item is really just a different way of calling the `__getitem__` dunder method."
   ]
  },
  {
   "cell_type": "code",
   "execution_count": 31,
   "metadata": {},
   "outputs": [
    {
     "data": {
      "text/plain": [
       "350"
      ]
     },
     "execution_count": 31,
     "metadata": {},
     "output_type": "execute_result"
    }
   ],
   "source": [
    "oq_list.__getitem__(0)"
   ]
  },
  {
   "cell_type": "markdown",
   "metadata": {},
   "source": [
    "Also notice that all of these functions worked *in place* - they operated directly on the object `oq_list` and modified it. Some methods will create a new instance of the object and if you want to \"save\" it, you'll have to assign the result back to your original object or create a new variable. If you've used R, you might recall that the dplyr package **never** modifies dataframes in place. The dplyr functions (e.g. `select`, `mutate`, `filter`, ...) always return new objects and we hav3 to \"catch the results\" by assigning to a variable if we wanted to actually modify our dataframe.\n",
    "\n",
    "Returning to our list example, we'll make a copy and explore a bit."
   ]
  },
  {
   "cell_type": "code",
   "execution_count": 32,
   "metadata": {},
   "outputs": [
    {
     "name": "stdout",
     "output_type": "stream",
     "text": [
      "[350, 300, 275, 250, 225, 200, 175, 150, 125, 100, 75, 50]\n",
      "True\n",
      "True\n",
      "False\n",
      "140255257959488 140255244415168\n"
     ]
    }
   ],
   "source": [
    "new_list = oq_list.copy()    # Make a copy and save to new variable\n",
    "print(new_list)              # Check out the new variable\n",
    "print(new_list == oq_list)   # Does the new variable have the same value as the old variable?\n",
    "print(type(new_list) == type(oq_list))  # Are the two variables of the same type?\n",
    "print(new_list is oq_list)   # Is the new variable actually the same object as the old variable?\n",
    "print(id(oq_list), id(new_list))  # Every object has its own unique id number. Use id() to see it."
   ]
  },
  {
   "cell_type": "markdown",
   "metadata": {},
   "source": [
    "The two lists have the same value and are of the same datatype, but are **not** the same object."
   ]
  },
  {
   "cell_type": "markdown",
   "metadata": {},
   "source": [
    "**QUESTION** If we reversed one of the two lists, would they still be considered to have the same value? In other words, does order matter with lists?"
   ]
  },
  {
   "cell_type": "markdown",
   "metadata": {},
   "source": [
    "Care must be taken when copying lists."
   ]
  },
  {
   "cell_type": "code",
   "execution_count": 33,
   "metadata": {},
   "outputs": [
    {
     "name": "stdout",
     "output_type": "stream",
     "text": [
      "[350, 300, 275, 250, 225, 200, 175, 150, 125, 100, 75, 50]\n"
     ]
    }
   ],
   "source": [
    "print(oq_list)"
   ]
  },
  {
   "cell_type": "code",
   "execution_count": 34,
   "metadata": {},
   "outputs": [
    {
     "name": "stdout",
     "output_type": "stream",
     "text": [
      "[350, 300, 275, 250, 225, 200, 175, 150, 125, 100, 75, 50]\n",
      "[50, 75, 100, 125, 150, 175, 200, 225, 250, 275, 300, 350]\n",
      "140255257959488 140255257959488\n"
     ]
    }
   ],
   "source": [
    "new_oq_list = oq_list\n",
    "print(new_oq_list)\n",
    "oq_list.reverse()\n",
    "print(new_oq_list)\n",
    "print(id(oq_list), id(new_oq_list))"
   ]
  },
  {
   "cell_type": "markdown",
   "metadata": {},
   "source": [
    "Yikes! As you can see from the id numbers, both list variables point to the same object in memory. Changing one list, changes the other - they're the same object. So, how do you safely copy lists? You use the `copy` method like we did above."
   ]
  },
  {
   "cell_type": "markdown",
   "metadata": {},
   "source": [
    "Let's look at the attributes of a `numpy.array` object and see how that compares to a list. They both are a data structure that allows us to store a bunch of values and get at them via an index number. What differences do you think these two data structures might have?"
   ]
  },
  {
   "cell_type": "code",
   "execution_count": 35,
   "metadata": {},
   "outputs": [
    {
     "name": "stdout",
     "output_type": "stream",
     "text": [
      "['T', '__abs__', '__add__', '__and__', '__array__', '__array_finalize__', '__array_function__', '__array_interface__', '__array_prepare__', '__array_priority__', '__array_struct__', '__array_ufunc__', '__array_wrap__', '__bool__', '__class__', '__complex__', '__contains__', '__copy__', '__deepcopy__', '__delattr__', '__delitem__', '__dir__', '__divmod__', '__doc__', '__eq__', '__float__', '__floordiv__', '__format__', '__ge__', '__getattribute__', '__getitem__', '__gt__', '__hash__', '__iadd__', '__iand__', '__ifloordiv__', '__ilshift__', '__imatmul__', '__imod__', '__imul__', '__index__', '__init__', '__init_subclass__', '__int__', '__invert__', '__ior__', '__ipow__', '__irshift__', '__isub__', '__iter__', '__itruediv__', '__ixor__', '__le__', '__len__', '__lshift__', '__lt__', '__matmul__', '__mod__', '__mul__', '__ne__', '__neg__', '__new__', '__or__', '__pos__', '__pow__', '__radd__', '__rand__', '__rdivmod__', '__reduce__', '__reduce_ex__', '__repr__', '__rfloordiv__', '__rlshift__', '__rmatmul__', '__rmod__', '__rmul__', '__ror__', '__rpow__', '__rrshift__', '__rshift__', '__rsub__', '__rtruediv__', '__rxor__', '__setattr__', '__setitem__', '__setstate__', '__sizeof__', '__str__', '__sub__', '__subclasshook__', '__truediv__', '__xor__', 'all', 'any', 'argmax', 'argmin', 'argpartition', 'argsort', 'astype', 'base', 'byteswap', 'choose', 'clip', 'compress', 'conj', 'conjugate', 'copy', 'ctypes', 'cumprod', 'cumsum', 'data', 'diagonal', 'dot', 'dtype', 'dump', 'dumps', 'fill', 'flags', 'flat', 'flatten', 'getfield', 'imag', 'item', 'itemset', 'itemsize', 'max', 'mean', 'min', 'nbytes', 'ndim', 'newbyteorder', 'nonzero', 'partition', 'prod', 'ptp', 'put', 'ravel', 'real', 'repeat', 'reshape', 'resize', 'round', 'searchsorted', 'setfield', 'setflags', 'shape', 'size', 'sort', 'squeeze', 'std', 'strides', 'sum', 'swapaxes', 'take', 'tobytes', 'tofile', 'tolist', 'tostring', 'trace', 'transpose', 'var', 'view']\n"
     ]
    }
   ],
   "source": [
    "print(dir(order_quantity_range))"
   ]
  },
  {
   "cell_type": "markdown",
   "metadata": {},
   "source": [
    "Wow, [numpy arrays](https://jakevdp.github.io/PythonDataScienceHandbook/02.02-the-basics-of-numpy-arrays.html) have a whole lot more going on under the hood than do lists. They play a huge role in doing data science work in Python with many packages using numpy to store and work with data. Notice that there are various mathematical methods such as `sum` and `mean` and methods to convert arrays to lists and strings using the obviously named methods. We see that there is a `dtype` property - it tells us the data type of the array. Our array stores 64bit integers."
   ]
  },
  {
   "cell_type": "code",
   "execution_count": 36,
   "metadata": {},
   "outputs": [
    {
     "data": {
      "text/plain": [
       "dtype('int64')"
      ]
     },
     "execution_count": 36,
     "metadata": {},
     "output_type": "execute_result"
    }
   ],
   "source": [
    "order_quantity_range.dtype"
   ]
  },
  {
   "cell_type": "markdown",
   "metadata": {},
   "source": [
    "**QUESTIONS** Why don't we use parens with `dtype`? Why don't list objects have a `dtype` property?"
   ]
  },
  {
   "cell_type": "markdown",
   "metadata": {},
   "source": [
    "### What about numbers?\n",
    "Are things like integers and floating point numbers actually objects?"
   ]
  },
  {
   "cell_type": "code",
   "execution_count": 37,
   "metadata": {},
   "outputs": [
    {
     "name": "stdout",
     "output_type": "stream",
     "text": [
      "7.5\n",
      "<class 'float'>\n",
      "['__abs__', '__add__', '__bool__', '__class__', '__delattr__', '__dir__', '__divmod__', '__doc__', '__eq__', '__float__', '__floordiv__', '__format__', '__ge__', '__getattribute__', '__getformat__', '__getnewargs__', '__gt__', '__hash__', '__init__', '__init_subclass__', '__int__', '__le__', '__lt__', '__mod__', '__mul__', '__ne__', '__neg__', '__new__', '__pos__', '__pow__', '__radd__', '__rdivmod__', '__reduce__', '__reduce_ex__', '__repr__', '__rfloordiv__', '__rmod__', '__rmul__', '__round__', '__rpow__', '__rsub__', '__rtruediv__', '__set_format__', '__setattr__', '__sizeof__', '__str__', '__sub__', '__subclasshook__', '__truediv__', '__trunc__', 'as_integer_ratio', 'conjugate', 'fromhex', 'hex', 'imag', 'is_integer', 'real']\n"
     ]
    }
   ],
   "source": [
    "print(unit_cost)\n",
    "print(type(unit_cost))\n",
    "print(dir(unit_cost))"
   ]
  },
  {
   "cell_type": "markdown",
   "metadata": {},
   "source": [
    "Yep. Try out some of the attributes."
   ]
  },
  {
   "cell_type": "markdown",
   "metadata": {},
   "source": [
    "### Writing our own classes\n",
    "While Python has many useful built in classes, true [object-oriented programming](https://en.wikipedia.org/wiki/Object-oriented_programming) (OOP) involves creating our own classes from which we can create object instances that are useful for the problem at hand. Python is an OOP language but it does **not** force you to create classes if you don't want to. You can write purely procedural code, some blend of [procedural](https://en.wikipedia.org/wiki/Procedural_programming), object oriented and [functional programming](https://en.wikipedia.org/wiki/Functional_programming). We aren't going to get into debates about which programming paradigm is the \"best\". There are times when OOP makes a lot of sense, and for those times, we'll use it. Other times, simply creating useful functions (such as the `bookstore_profit` function we used earlier) is the appropriate thing to do.\n",
    "\n",
    "Many business analysts who learn Excel VBA, don't realize that you can actually create classes in VBA. Most stick with using the built in Excel objects."
   ]
  },
  {
   "cell_type": "markdown",
   "metadata": {},
   "source": [
    "## An OO version of the Bookstore Model\n",
    "\n",
    "Let's create an OO version of the Bookstore Model and figure out how to do n-way data tables just as we did with the non-OO version of the model. Then we'll go on and figure out how to duplicate the functionality of Excel's Goal Seek tool in Python. It's not clear whether the non-OO or the OO version of our model will ultimately prove best for this use case. Regardless, we'll learn a few things along the way.\n",
    "\n",
    "As an aside, there's a very useful site aimed at using Python quantitative economics and finance - https://quantecon.org/. Within there are some terrific notebooks on various Python topics. Here are two related to OOP:\n",
    "\n",
    "* https://python-programming.quantecon.org/oop_intro.html\n",
    "* https://python-programming.quantecon.org/python_oop.html"
   ]
  },
  {
   "cell_type": "markdown",
   "metadata": {},
   "source": [
    "### Initial design of the BookstoreModel class\n",
    "It seems like we would want all of the base inputs such as unit cost, selling price, unit refund, order quantity and demand to be attributes (properties) of the class. Here's the start of our class definition code:"
   ]
  },
  {
   "cell_type": "code",
   "execution_count": 38,
   "metadata": {},
   "outputs": [],
   "source": [
    "class BookstoreModel():\n",
    "    def __init__(self, unit_cost, selling_price, unit_refund, order_quantity, demand):\n",
    "        self.unit_cost = unit_cost\n",
    "        self.selling_price = selling_price\n",
    "        self.unit_refund = unit_refund\n",
    "        self.order_quantity = order_quantity\n",
    "        self.demand = demand"
   ]
  },
  {
   "cell_type": "markdown",
   "metadata": {},
   "source": [
    "Some important things of note:\n",
    "\n",
    "* we use the keyword `class` followed by the name of our class.\n",
    "* by convention, class names are capitalized (each word if multi-word).\n",
    "* the class declaration looks a little like defining a function but we use `class` instead of `def`.\n",
    "* there's nothing in the parentheses following the class name. We'll defer talking about this for now.\n",
    "* there's a single method (function) defined within the class and it is called `__init__`. From earlier in this document we know that this must be a built in dunder method that has some special purpose. From its name you've probably already guessed that it's the function called when a new object instance is first created. If you've programmed in Java or C++, this is kind of like a constructor.\n",
    "* the first argument to the `__init__` function is `self` and represents the object instance being created.\n",
    "* the remaining arguments to the `__init__` function are values that we want to use in the function. In this case, we simply want to create object properties corresponding to the base inputs for the bookstore model.\n",
    "* the rest of the lines within the `__init__` function are initializing our object properties to the values passed in. \n",
    "* in order to reference (i.e. to get the value or set the value) an object property, we always preface the property with the `self` object, e.g., `self.unit_cost`.\n",
    "* if you've programmed in Java you might be used to using \"setters and getters\". In general [we don't do that in Python](https://www.python-course.eu/python3_properties.php) and instead just reference the property directly using dot notation."
   ]
  },
  {
   "cell_type": "markdown",
   "metadata": {},
   "source": [
    "Well, our class isn't super useful yet, but let's try it out. Make sure you run the code chunk above that defines the BookstoreModel class."
   ]
  },
  {
   "cell_type": "code",
   "execution_count": 39,
   "metadata": {},
   "outputs": [],
   "source": [
    "# Reset the base inputs\n",
    "unit_cost = 7.50\n",
    "selling_price = 10.00\n",
    "unit_refund = 2.50\n",
    "demand = 193\n",
    "order_quantity = 200\n",
    "\n",
    "# Create a new BookstoreModel object\n",
    "model_1 = BookstoreModel(unit_cost, selling_price, unit_refund, order_quantity, demand)"
   ]
  },
  {
   "cell_type": "markdown",
   "metadata": {},
   "source": [
    "Let's print out one of the properties."
   ]
  },
  {
   "cell_type": "code",
   "execution_count": 40,
   "metadata": {},
   "outputs": [
    {
     "name": "stdout",
     "output_type": "stream",
     "text": [
      "7.5\n"
     ]
    }
   ],
   "source": [
    "print(model_1.unit_cost)"
   ]
  },
  {
   "cell_type": "markdown",
   "metadata": {},
   "source": [
    "What happens if we try to print the model object itself?"
   ]
  },
  {
   "cell_type": "code",
   "execution_count": 41,
   "metadata": {},
   "outputs": [
    {
     "name": "stdout",
     "output_type": "stream",
     "text": [
      "<__main__.BookstoreModel object at 0x7f8fb803fd00>\n"
     ]
    }
   ],
   "source": [
    "print(model_1)"
   ]
  },
  {
   "cell_type": "markdown",
   "metadata": {},
   "source": [
    "Ok, not the most useful but we do see that we've got an object of the right type and that the object lives in the `__main__` *namespace*. Namespaces are important in Python. They're even mentioned in the Zen of Python. You can [learn more about namespaces here](https://realpython.com/python-namespaces-scope/)."
   ]
  },
  {
   "cell_type": "code",
   "execution_count": 42,
   "metadata": {},
   "outputs": [
    {
     "name": "stdout",
     "output_type": "stream",
     "text": [
      "The Zen of Python, by Tim Peters\n",
      "\n",
      "Beautiful is better than ugly.\n",
      "Explicit is better than implicit.\n",
      "Simple is better than complex.\n",
      "Complex is better than complicated.\n",
      "Flat is better than nested.\n",
      "Sparse is better than dense.\n",
      "Readability counts.\n",
      "Special cases aren't special enough to break the rules.\n",
      "Although practicality beats purity.\n",
      "Errors should never pass silently.\n",
      "Unless explicitly silenced.\n",
      "In the face of ambiguity, refuse the temptation to guess.\n",
      "There should be one-- and preferably only one --obvious way to do it.\n",
      "Although that way may not be obvious at first unless you're Dutch.\n",
      "Now is better than never.\n",
      "Although never is often better than *right* now.\n",
      "If the implementation is hard to explain, it's a bad idea.\n",
      "If the implementation is easy to explain, it may be a good idea.\n",
      "Namespaces are one honking great idea -- let's do more of those!\n"
     ]
    }
   ],
   "source": [
    "import this"
   ]
  },
  {
   "cell_type": "markdown",
   "metadata": {},
   "source": [
    "If you look back at our `bookstore_profit` function, you'll see that it first computes the various cost and revenue components and then computes profit from that. So, it would seem usefu to add some methods to our BookstoreModel class that computed these things."
   ]
  },
  {
   "cell_type": "code",
   "execution_count": 43,
   "metadata": {},
   "outputs": [],
   "source": [
    "class BookstoreModel():\n",
    "    def __init__(self, unit_cost, selling_price, unit_refund, order_quantity, demand):\n",
    "        self.unit_cost = unit_cost\n",
    "        self.selling_price = selling_price\n",
    "        self.unit_refund = unit_refund\n",
    "        self.order_quantity = order_quantity\n",
    "        self.demand = demand\n",
    "        \n",
    "    def order_cost(self):\n",
    "        \"\"\"Compute total order cost\"\"\"\n",
    "        return self.unit_cost * self.order_quantity\n",
    "    \n",
    "    def sales_revenue(self):\n",
    "        \"\"\"Compute sales revenue\"\"\"\n",
    "        return np.minimum(self.order_quantity, self.demand) * self.selling_price\n",
    "    \n",
    "    def refund_revenue(self):\n",
    "        \"\"\"Compute revenue from refunds for unsold items\"\"\"\n",
    "        return np.maximum(0, self.order_quantity - self.demand)\n",
    "    \n",
    "    def profit(self):\n",
    "        '''\n",
    "        Compute profit\n",
    "        '''\n",
    "        profit = self.sales_revenue() + self.refund_revenue() - self.order_cost()\n",
    "        return profit"
   ]
  },
  {
   "cell_type": "markdown",
   "metadata": {},
   "source": [
    "A few important things to note:\n",
    "* we added four new object functions (methods)\n",
    "* each method only takes the `self` object as an input argument. We don't pass in the properties such as unit_cost or order_quantity. We don't need to since self knows about these things via its properties.\n",
    "* within each method we have to use `self.someproperty` in our expressions\n",
    "* the `profit` method calls some of the other methods and when it does, it prefaces the method with `self.` and follows it with empty parens. The `self` object is implicitly passed.\n",
    "* each method returns a value\n",
    "* each method has a simple docstring\n",
    "\n",
    "Before we can test out our enhanced class, we need to run the code cell above and we need to create a new object instance based on the updated class definition."
   ]
  },
  {
   "cell_type": "code",
   "execution_count": 44,
   "metadata": {},
   "outputs": [],
   "source": [
    "# Create a new BookstoreModel object\n",
    "model_2 = BookstoreModel(unit_cost, selling_price, unit_refund, order_quantity, demand)"
   ]
  },
  {
   "cell_type": "code",
   "execution_count": 45,
   "metadata": {},
   "outputs": [
    {
     "name": "stdout",
     "output_type": "stream",
     "text": [
      "1930.0\n",
      "437.0\n"
     ]
    }
   ],
   "source": [
    "print(model_2.sales_revenue())\n",
    "print(model_2.profit())"
   ]
  },
  {
   "cell_type": "markdown",
   "metadata": {},
   "source": [
    "It would nice to have a way to print out a succinct summary of a BookstoreModel object. Let's start by just listing out the properties. We can use the Python `vars` function to help. This StackOverflow post has some good info on getting a dictionary of object properties:\n",
    "\n",
    "https://stackoverflow.com/questions/61517/python-dictionary-from-an-objects-fields"
   ]
  },
  {
   "cell_type": "code",
   "execution_count": 46,
   "metadata": {},
   "outputs": [
    {
     "data": {
      "text/plain": [
       "{'unit_cost': 7.5,\n",
       " 'selling_price': 10.0,\n",
       " 'unit_refund': 2.5,\n",
       " 'order_quantity': 200,\n",
       " 'demand': 193}"
      ]
     },
     "execution_count": 46,
     "metadata": {},
     "output_type": "execute_result"
    }
   ],
   "source": [
    "vars(model_2)"
   ]
  },
  {
   "cell_type": "code",
   "execution_count": 47,
   "metadata": {},
   "outputs": [
    {
     "name": "stdout",
     "output_type": "stream",
     "text": [
      "{'unit_cost': 7.5, 'selling_price': 10.0, 'unit_refund': 2.5, 'order_quantity': 200, 'demand': 193}\n"
     ]
    }
   ],
   "source": [
    "print(vars(model_2))"
   ]
  },
  {
   "cell_type": "markdown",
   "metadata": {},
   "source": [
    "The Pythonic way for creating a string representation of an object is to implement a `__str__` dunder function for our object. This function needs to return a string. Notice that the `vars` function returns a dictionary. You can learn more about `__str__` and the related `__repr__` dunder functions at https://dbader.org/blog/python-repr-vs-str. In a nutshell, we use `__str__` to create \"pretty\" string representations of an object for our user and `__repr__` for an unambiguous string representation that includes the object type."
   ]
  },
  {
   "cell_type": "code",
   "execution_count": 48,
   "metadata": {},
   "outputs": [],
   "source": [
    "class BookstoreModel():\n",
    "    def __init__(self, unit_cost, selling_price, unit_refund, order_quantity, demand):\n",
    "        self.unit_cost = unit_cost\n",
    "        self.selling_price = selling_price\n",
    "        self.unit_refund = unit_refund\n",
    "        self.order_quantity = order_quantity\n",
    "        self.demand = demand\n",
    "        \n",
    "    def order_cost(self):\n",
    "        \"\"\"Compute total order cost\"\"\"\n",
    "        return self.unit_cost * self.order_quantity\n",
    "    \n",
    "    def sales_revenue(self):\n",
    "        \"\"\"Compute sales revenue\"\"\"\n",
    "        return np.minimum(self.order_quantity, self.demand) * self.selling_price\n",
    "    \n",
    "    def refund_revenue(self):\n",
    "        \"\"\"Compute revenue from refunds for unsold items\"\"\"\n",
    "        return np.maximum(0, self.order_quantity - self.demand)\n",
    "    \n",
    "    def profit(self):\n",
    "        '''\n",
    "        Compute profit\n",
    "        '''\n",
    "        profit = self.sales_revenue() + self.refund_revenue() - self.order_cost()\n",
    "        return profit\n",
    "    \n",
    "    def __str__(self):\n",
    "        \"\"\"\n",
    "        String representation of bookstore inputs\n",
    "        \"\"\"\n",
    "        return str(vars(self))"
   ]
  },
  {
   "cell_type": "markdown",
   "metadata": {},
   "source": [
    "Notice we wrapped `vars` with `str` to convert the dictionary to a string."
   ]
  },
  {
   "cell_type": "code",
   "execution_count": 49,
   "metadata": {},
   "outputs": [],
   "source": [
    "# Reset the base inputs\n",
    "unit_cost = 7.50\n",
    "selling_price = 10.00\n",
    "unit_refund = 2.50\n",
    "demand = 193\n",
    "order_quantity = 200\n",
    "\n",
    "# Create a new BookstoreModel object\n",
    "model_3 = BookstoreModel(unit_cost, selling_price, unit_refund, order_quantity, demand)"
   ]
  },
  {
   "cell_type": "code",
   "execution_count": 50,
   "metadata": {},
   "outputs": [
    {
     "name": "stdout",
     "output_type": "stream",
     "text": [
      "{'unit_cost': 7.5, 'selling_price': 10.0, 'unit_refund': 2.5, 'order_quantity': 200, 'demand': 193}\n"
     ]
    }
   ],
   "source": [
    "print(model_3)"
   ]
  },
  {
   "cell_type": "markdown",
   "metadata": {},
   "source": [
    "**CHALLENGE** Modify the `__str__` function so that it also shows the computed value of `order_cost`, `sales_revenue`, `refund_revenue` and `profit`."
   ]
  },
  {
   "cell_type": "markdown",
   "metadata": {},
   "source": [
    "### 1-way Data Table with OO model\n",
    "Seems entirely plausible that we could simple set one of the inputs to an array of values and then call the `profit` method."
   ]
  },
  {
   "cell_type": "code",
   "execution_count": 51,
   "metadata": {},
   "outputs": [],
   "source": [
    "# Set property equal to an array\n",
    "model_3.order_quantity = np.arange(50, 301, 25)"
   ]
  },
  {
   "cell_type": "code",
   "execution_count": 52,
   "metadata": {},
   "outputs": [
    {
     "data": {
      "text/plain": [
       "array([ 125. ,  187.5,  250. ,  312.5,  375. ,  437.5,  437. ,  274.5,\n",
       "        112. ,  -50.5, -213. ])"
      ]
     },
     "execution_count": 52,
     "metadata": {},
     "output_type": "execute_result"
    }
   ],
   "source": [
    "# Can we compute an array of profits? Yep.\n",
    "model_3.profit()"
   ]
  },
  {
   "cell_type": "markdown",
   "metadata": {},
   "source": [
    "What about a 2-way data table using the OO model? We can't use the same direct array passing approach because of ..."
   ]
  },
  {
   "cell_type": "code",
   "execution_count": null,
   "metadata": {},
   "outputs": [],
   "source": [
    "# This won't work unless the two arrays are the same size - can't broadcast.\n",
    "# Also, even if same size, doesn't do all combinations, just aligned elements.\n",
    "demand_range = np.arange(70, 321, 5)\n",
    "order_quantity_range = np.arange(70, 321, 10)    # Broadcast error\n",
    "# order_quantity_range = np.arange(70, 321, 5)   # Doesn't do all combinations\n",
    "\n",
    "# Method 1: Set property equal to an array\n",
    "model_3.demand = demand_range\n",
    "model_3.order_quantity = order_quantity_range\n",
    "\n",
    "model_3.profit()"
   ]
  },
  {
   "cell_type": "markdown",
   "metadata": {},
   "source": [
    "Recall that for the non-OO model, we could easily do an n-way data table using a list comprehension that made use of the `bookstore_profit` function because we could explicitly loop over ranges of any subset of the input variables and call the `bookstore_profit` function with all of the input arguments specified. We can't do that with the OO model because the `profit` function is a method of the object and we don't pass it any input arguments other than `self`? So, we need a way to loop over alll the input ranges and update the bookstore model object's input attributes and then call the `profit` method."
   ]
  },
  {
   "cell_type": "markdown",
   "metadata": {},
   "source": [
    "### A decision point\n",
    "An end user modeler analagous to your basic Excel power user isn't going to write OO code to do a Data Table. The list comprehension approach based on a global function (i.e. the non-OO model) is much more likely. However, a relatively generic Data Table function could be implemented in an OO way and be quite reusable. Also, we still want to implement Goal Seek and it's not clear whether the OO or non-OO approach makes the most sense.\n",
    "\n",
    "Well, let's forge ahead and design and create a Python based Data Table function that accepts an OO BookstoreModel object as one of its inputs. Surely, we'll learn some things along the way."
   ]
  },
  {
   "cell_type": "markdown",
   "metadata": {},
   "source": [
    "#### Adding an `update` method.\n",
    "Since were are going to need to repeatedly update some subset of the input parameters, let's add an `update` method to the BookstoreModel class that takes a dictionary of property, value pairs. The question is, how do we update object attributes from a dictionary specifying the attribute and the new value? This StackoverFlow post was quite helpful:\n",
    "\n",
    "https://stackoverflow.com/questions/2466191/set-attributes-from-dictionary-in-python\n",
    "\n",
    "The idea is that we use Python's `setattr` function. Using [`setattr`](https://www.w3schools.com/python/ref_func_setattr.asp) is really easy:\n",
    "\n",
    "    setattr(object, attribute name, attribute value)\n",
    "    \n",
    "As a specific example, it can be used like this."
   ]
  },
  {
   "cell_type": "code",
   "execution_count": 53,
   "metadata": {},
   "outputs": [
    {
     "name": "stdout",
     "output_type": "stream",
     "text": [
      "{'unit_cost': 7.5, 'selling_price': 10.0, 'unit_refund': 2.5, 'order_quantity': 200, 'demand': 193}\n",
      "{'unit_cost': 8.5, 'selling_price': 10.0, 'unit_refund': 2.5, 'order_quantity': 250, 'demand': 193}\n"
     ]
    }
   ],
   "source": [
    "model_4 = BookstoreModel(unit_cost, selling_price, unit_refund, order_quantity, demand)\n",
    "print(model_4)\n",
    "\n",
    "# We want to update a existing model object with these parameter values\n",
    "new_params = {'unit_cost': 8.5, 'order_quantity': 250}\n",
    "\n",
    "# Iterate over the keys in new_params\n",
    "for key in new_params:\n",
    "            setattr(model_4, key, new_params[key])\n",
    "        \n",
    "print(model_4)"
   ]
  },
  {
   "cell_type": "markdown",
   "metadata": {},
   "source": [
    "Okay, here's our updated BookstoreModel class. Note that I've also added a convenience method called `reset` that just resets all the input parameters to their initial values for testing. In order to do this we need to store the initial input values in a dictionary. I've named that dictionary variable as `_initial_inputs`. The leading underscore is a Python convention suggesting that this variable is meant to be an \"internal\" or \"private\" variable. It's not really private. I've also changed to keyword arguments with default values."
   ]
  },
  {
   "cell_type": "code",
   "execution_count": 80,
   "metadata": {},
   "outputs": [],
   "source": [
    "class BookstoreModel():\n",
    "    def __init__(self, unit_cost=0, selling_price=0, unit_refund=0, \n",
    "                 order_quantity=0, demand=0):\n",
    "        self.unit_cost = unit_cost\n",
    "        self.selling_price = selling_price\n",
    "        self.unit_refund = unit_refund\n",
    "        self.order_quantity = order_quantity\n",
    "        self.demand = demand\n",
    "        \n",
    "        # Store initial inputs to use in reset method\n",
    "        self._initial_inputs = vars(self)\n",
    "        \n",
    "    def update(self, param_dict):\n",
    "        \"\"\"\n",
    "        Update parameter values\n",
    "        \"\"\"\n",
    "        for key in param_dict:\n",
    "            setattr(self, key, param_dict[key])\n",
    "        \n",
    "    def order_cost(self):\n",
    "        return self.unit_cost * self.order_quantity\n",
    "    \n",
    "    def sales_revenue(self):\n",
    "        return np.minimum(self.order_quantity, self.demand) * self.selling_price\n",
    "    \n",
    "    def refund_revenue(self):\n",
    "        return np.maximum(0, self.order_quantity - self.demand)\n",
    "    \n",
    "    def profit(self):\n",
    "        '''\n",
    "        Compute profit in bookstore model\n",
    "        '''\n",
    "        profit = self.sales_revenue() + self.refund_revenue() - self.order_cost()\n",
    "        return profit\n",
    "    \n",
    "    def reset(self):\n",
    "        \"\"\"\n",
    "        Reset model attributes to initial values. \n",
    "        \"\"\"\n",
    "        self.update(self._initial_inputs)\n",
    "    \n",
    "    def __str__(self):\n",
    "        \"\"\"\n",
    "        Print dictionary of object attributes but don't include the _initial_inputs dict.\n",
    "        \"\"\"\n",
    "        return str({key: val for (key, val) in vars(self).items() if key[0] != '_'})"
   ]
  },
  {
   "cell_type": "markdown",
   "metadata": {},
   "source": [
    "Let's try out our `update` and `reset` methods."
   ]
  },
  {
   "cell_type": "code",
   "execution_count": 81,
   "metadata": {},
   "outputs": [
    {
     "name": "stdout",
     "output_type": "stream",
     "text": [
      "{'unit_cost': 7.5, 'selling_price': 10.0, 'unit_refund': 2.5, 'order_quantity': 200, 'demand': 193}\n"
     ]
    }
   ],
   "source": [
    "model_5 = BookstoreModel(unit_cost, selling_price, unit_refund, order_quantity, demand)\n",
    "model_5.reset()\n",
    "print(model_5)"
   ]
  },
  {
   "cell_type": "markdown",
   "metadata": {},
   "source": [
    "Now let's try our new `update` method."
   ]
  },
  {
   "cell_type": "code",
   "execution_count": 82,
   "metadata": {},
   "outputs": [
    {
     "name": "stdout",
     "output_type": "stream",
     "text": [
      "{'unit_cost': 8.5, 'selling_price': 10.0, 'unit_refund': 2.5, 'order_quantity': 250, 'demand': 193}\n"
     ]
    }
   ],
   "source": [
    "new_params = {'unit_cost': 8.5, 'order_quantity': 250}\n",
    "model_5.update(new_params)\n",
    "print(model_5)"
   ]
  },
  {
   "cell_type": "markdown",
   "metadata": {},
   "source": [
    "#### Learning from the ideas and code from scikit-learn\n",
    "\n",
    "[Scikit-learn](https://scikit-learn.org/stable/index.html) is an extremely popular Python package for building, testing and using machine learning models. In thinking about the input values for an n-way data table, it feels like it would like the parameter grid for a hyperparameter grid search in scikit learn. Can we borrow some of their patterns?\n",
    "\n",
    "https://scikit-learn.org/stable/modules/generated/sklearn.model_selection.GridSearchCV.html#sklearn.model_selection.GridSearchCV\n",
    "\n",
    "https://scikit-learn.org/stable/modules/grid_search.html#grid-search\n",
    "\n",
    "Example from User Guide shows passing in two different grids to explore as a list of dicts. Notice that each dict is like the setup for an Excel Data Table.\n",
    "\n",
    "    param_grid = [\n",
    "      {'C': [1, 10, 100, 1000], 'kernel': ['linear']},\n",
    "      {'C': [1, 10, 100, 1000], 'gamma': [0.001, 0.0001], 'kernel': ['rbf']},\n",
    "     ]\n",
    "     \n",
    "     \n",
    "For example, the `GridSearchCV` takes and estimator object and a parameter grid object. The parameter grid is a dict or list of dicts in which the keys are the parameter names. SKLearn implements a `ParameterGrid` class. Looking at its source, the docstring contains the following example. Notice that the result of `ParameterGrid(param_grid)` is a list of dicts in which each dict contains a specific combination of the parameter values, i.e., it generates all the combos. The second example shows the value of accepting a list of dicts as `param_grid` to avoid ridiculous or nonsensical combinations (e.g. the linear kernal has no gamma param).\n",
    "\n",
    "    Examples\n",
    "    --------\n",
    "    >>> from sklearn.model_selection import ParameterGrid\n",
    "    >>> param_grid = {'a': [1, 2], 'b': [True, False]}\n",
    "    >>> list(ParameterGrid(param_grid)) == (\n",
    "    ...    [{'a': 1, 'b': True}, {'a': 1, 'b': False},\n",
    "    ...     {'a': 2, 'b': True}, {'a': 2, 'b': False}])\n",
    "    True\n",
    "    >>> grid = [{'kernel': ['linear']}, {'kernel': ['rbf'], 'gamma': [1, 10]}]\n",
    "    >>> list(ParameterGrid(grid)) == [{'kernel': 'linear'},\n",
    "    ...                               {'kernel': 'rbf', 'gamma': 1},\n",
    "    ...                               {'kernel': 'rbf', 'gamma': 10}]\n",
    "    True\n",
    "    >>> ParameterGrid(grid)[1] == {'kernel': 'rbf', 'gamma': 1}\n",
    "    True\n",
    "\n",
    "\n",
    "Hmm, we could use this class directly."
   ]
  },
  {
   "cell_type": "code",
   "execution_count": 57,
   "metadata": {},
   "outputs": [],
   "source": [
    "from sklearn.model_selection._search import ParameterGrid"
   ]
  },
  {
   "cell_type": "code",
   "execution_count": 58,
   "metadata": {},
   "outputs": [],
   "source": [
    "dt_param_ranges = {'demand': np.arange(70, 321, 25),\n",
    "                'order_quantity': np.arange(70, 321, 50)}"
   ]
  },
  {
   "cell_type": "code",
   "execution_count": 59,
   "metadata": {},
   "outputs": [
    {
     "data": {
      "text/plain": [
       "[{'demand': 70, 'order_quantity': 70},\n",
       " {'demand': 70, 'order_quantity': 120},\n",
       " {'demand': 70, 'order_quantity': 170},\n",
       " {'demand': 70, 'order_quantity': 220},\n",
       " {'demand': 70, 'order_quantity': 270},\n",
       " {'demand': 70, 'order_quantity': 320},\n",
       " {'demand': 95, 'order_quantity': 70},\n",
       " {'demand': 95, 'order_quantity': 120},\n",
       " {'demand': 95, 'order_quantity': 170},\n",
       " {'demand': 95, 'order_quantity': 220},\n",
       " {'demand': 95, 'order_quantity': 270},\n",
       " {'demand': 95, 'order_quantity': 320},\n",
       " {'demand': 120, 'order_quantity': 70},\n",
       " {'demand': 120, 'order_quantity': 120},\n",
       " {'demand': 120, 'order_quantity': 170},\n",
       " {'demand': 120, 'order_quantity': 220},\n",
       " {'demand': 120, 'order_quantity': 270},\n",
       " {'demand': 120, 'order_quantity': 320},\n",
       " {'demand': 145, 'order_quantity': 70},\n",
       " {'demand': 145, 'order_quantity': 120},\n",
       " {'demand': 145, 'order_quantity': 170},\n",
       " {'demand': 145, 'order_quantity': 220},\n",
       " {'demand': 145, 'order_quantity': 270},\n",
       " {'demand': 145, 'order_quantity': 320},\n",
       " {'demand': 170, 'order_quantity': 70},\n",
       " {'demand': 170, 'order_quantity': 120},\n",
       " {'demand': 170, 'order_quantity': 170},\n",
       " {'demand': 170, 'order_quantity': 220},\n",
       " {'demand': 170, 'order_quantity': 270},\n",
       " {'demand': 170, 'order_quantity': 320},\n",
       " {'demand': 195, 'order_quantity': 70},\n",
       " {'demand': 195, 'order_quantity': 120},\n",
       " {'demand': 195, 'order_quantity': 170},\n",
       " {'demand': 195, 'order_quantity': 220},\n",
       " {'demand': 195, 'order_quantity': 270},\n",
       " {'demand': 195, 'order_quantity': 320},\n",
       " {'demand': 220, 'order_quantity': 70},\n",
       " {'demand': 220, 'order_quantity': 120},\n",
       " {'demand': 220, 'order_quantity': 170},\n",
       " {'demand': 220, 'order_quantity': 220},\n",
       " {'demand': 220, 'order_quantity': 270},\n",
       " {'demand': 220, 'order_quantity': 320},\n",
       " {'demand': 245, 'order_quantity': 70},\n",
       " {'demand': 245, 'order_quantity': 120},\n",
       " {'demand': 245, 'order_quantity': 170},\n",
       " {'demand': 245, 'order_quantity': 220},\n",
       " {'demand': 245, 'order_quantity': 270},\n",
       " {'demand': 245, 'order_quantity': 320},\n",
       " {'demand': 270, 'order_quantity': 70},\n",
       " {'demand': 270, 'order_quantity': 120},\n",
       " {'demand': 270, 'order_quantity': 170},\n",
       " {'demand': 270, 'order_quantity': 220},\n",
       " {'demand': 270, 'order_quantity': 270},\n",
       " {'demand': 270, 'order_quantity': 320},\n",
       " {'demand': 295, 'order_quantity': 70},\n",
       " {'demand': 295, 'order_quantity': 120},\n",
       " {'demand': 295, 'order_quantity': 170},\n",
       " {'demand': 295, 'order_quantity': 220},\n",
       " {'demand': 295, 'order_quantity': 270},\n",
       " {'demand': 295, 'order_quantity': 320},\n",
       " {'demand': 320, 'order_quantity': 70},\n",
       " {'demand': 320, 'order_quantity': 120},\n",
       " {'demand': 320, 'order_quantity': 170},\n",
       " {'demand': 320, 'order_quantity': 220},\n",
       " {'demand': 320, 'order_quantity': 270},\n",
       " {'demand': 320, 'order_quantity': 320}]"
      ]
     },
     "execution_count": 59,
     "metadata": {},
     "output_type": "execute_result"
    }
   ],
   "source": [
    "dt_param_grid = list(ParameterGrid(dt_param_ranges))\n",
    "dt_param_grid"
   ]
  },
  {
   "cell_type": "markdown",
   "metadata": {},
   "source": [
    "Perfect! We have a list of dictionaries, each of which contains one of the combinations of the `demand` and `order_quantity` attributes that we want in our data table. Isn't it nice that we just implemented an `update` method that takes just such a dictionary as its input. Almost like we planned it. :)\n",
    "\n",
    "While there's nothing wrong with leveraging the skikit-learn library for this task (after all, reusing objects is one of the whole reasons for OOP), we really don't need all the generality provided by its `ParameterGrid` class. We just need to do some careful iteration through our dictionary of input ranges to create the same output. It will give us a chance to use the very useful [itertools library](https://docs.python.org/3/library/itertools.html). "
   ]
  },
  {
   "cell_type": "code",
   "execution_count": 60,
   "metadata": {},
   "outputs": [],
   "source": [
    "from itertools import product"
   ]
  },
  {
   "cell_type": "code",
   "execution_count": 61,
   "metadata": {},
   "outputs": [
    {
     "data": {
      "text/plain": [
       "dict_items([('demand', array([ 70,  95, 120, 145, 170, 195, 220, 245, 270, 295, 320])), ('order_quantity', array([ 70, 120, 170, 220, 270, 320]))])"
      ]
     },
     "execution_count": 61,
     "metadata": {},
     "output_type": "execute_result"
    }
   ],
   "source": [
    "# Look at the key, value pairs (tuples) in dt_param_ranges dictionary\n",
    "dt_param_ranges.items()"
   ]
  },
  {
   "cell_type": "markdown",
   "metadata": {},
   "source": [
    "Now we can use [tuple unpacking](https://docs.python.org/3.6/tutorial/controlflow.html#unpacking-argument-lists) along with the [zip function](https://www.w3schools.com/python/ref_func_zip.asp) to get two tuples. One tuple will get stored in the variable `keys` and the other in `values`."
   ]
  },
  {
   "cell_type": "code",
   "execution_count": 62,
   "metadata": {},
   "outputs": [
    {
     "name": "stdout",
     "output_type": "stream",
     "text": [
      "The original tuples\n",
      "('demand', array([ 70,  95, 120, 145, 170, 195, 220, 245, 270, 295, 320])) ('order_quantity', array([ 70, 120, 170, 220, 270, 320]))\n",
      "\n",
      "The zipped tuples\n",
      "('demand', 'order_quantity') (array([ 70,  95, 120, 145, 170, 195, 220, 245, 270, 295, 320]), array([ 70, 120, 170, 220, 270, 320]))\n"
     ]
    }
   ],
   "source": [
    "print(\"The original tuples\")\n",
    "print(*dt_param_ranges.items())\n",
    "print(\"\\nThe zipped tuples\")\n",
    "keys, values = zip(*dt_param_ranges.items())\n",
    "print(keys, values)"
   ]
  },
  {
   "cell_type": "markdown",
   "metadata": {},
   "source": [
    "Now we have a tuple of the keys, `('demand', 'order_quantity')` and a tuple containing the two arrays of associated values.\n",
    "\n",
    "What we need next is a way to get all the combinations of the values in the two arrays. This is a perfect job for the `itertools.product` function. Here's a simple example of what `product` does."
   ]
  },
  {
   "cell_type": "code",
   "execution_count": 63,
   "metadata": {},
   "outputs": [
    {
     "name": "stdout",
     "output_type": "stream",
     "text": [
      "('pale', 'red')\n",
      "('pale', 'blue')\n",
      "('pale', 'green')\n",
      "('bright', 'red')\n",
      "('bright', 'blue')\n",
      "('bright', 'green')\n"
     ]
    }
   ],
   "source": [
    "colors = ['red', 'blue', 'green']\n",
    "intensities = ['pale', 'bright']\n",
    "for pair in product(intensities, colors):\n",
    "    print(pair)"
   ]
  },
  {
   "cell_type": "markdown",
   "metadata": {},
   "source": [
    "The `values` variable is a tuple (that needs unpacking) containing the two arrays for which we want the `product`. I'll turn the result into a list so we can see it. Try it without the list to see what you get."
   ]
  },
  {
   "cell_type": "code",
   "execution_count": 64,
   "metadata": {},
   "outputs": [
    {
     "data": {
      "text/plain": [
       "[(70, 70),\n",
       " (70, 120),\n",
       " (70, 170),\n",
       " (70, 220),\n",
       " (70, 270),\n",
       " (70, 320),\n",
       " (95, 70),\n",
       " (95, 120),\n",
       " (95, 170),\n",
       " (95, 220),\n",
       " (95, 270),\n",
       " (95, 320),\n",
       " (120, 70),\n",
       " (120, 120),\n",
       " (120, 170),\n",
       " (120, 220),\n",
       " (120, 270),\n",
       " (120, 320),\n",
       " (145, 70),\n",
       " (145, 120),\n",
       " (145, 170),\n",
       " (145, 220),\n",
       " (145, 270),\n",
       " (145, 320),\n",
       " (170, 70),\n",
       " (170, 120),\n",
       " (170, 170),\n",
       " (170, 220),\n",
       " (170, 270),\n",
       " (170, 320),\n",
       " (195, 70),\n",
       " (195, 120),\n",
       " (195, 170),\n",
       " (195, 220),\n",
       " (195, 270),\n",
       " (195, 320),\n",
       " (220, 70),\n",
       " (220, 120),\n",
       " (220, 170),\n",
       " (220, 220),\n",
       " (220, 270),\n",
       " (220, 320),\n",
       " (245, 70),\n",
       " (245, 120),\n",
       " (245, 170),\n",
       " (245, 220),\n",
       " (245, 270),\n",
       " (245, 320),\n",
       " (270, 70),\n",
       " (270, 120),\n",
       " (270, 170),\n",
       " (270, 220),\n",
       " (270, 270),\n",
       " (270, 320),\n",
       " (295, 70),\n",
       " (295, 120),\n",
       " (295, 170),\n",
       " (295, 220),\n",
       " (295, 270),\n",
       " (295, 320),\n",
       " (320, 70),\n",
       " (320, 120),\n",
       " (320, 170),\n",
       " (320, 220),\n",
       " (320, 270),\n",
       " (320, 320)]"
      ]
     },
     "execution_count": 64,
     "metadata": {},
     "output_type": "execute_result"
    }
   ],
   "source": [
    "list(product(*values))"
   ]
  },
  {
   "cell_type": "markdown",
   "metadata": {},
   "source": [
    "Finally, we need to zip each of these tuples with the `keys` variable and turn the resulting tuple into a dictionary. Let's recall what it contains:"
   ]
  },
  {
   "cell_type": "code",
   "execution_count": 65,
   "metadata": {},
   "outputs": [
    {
     "data": {
      "text/plain": [
       "('demand', 'order_quantity')"
      ]
     },
     "execution_count": 65,
     "metadata": {},
     "output_type": "execute_result"
    }
   ],
   "source": [
    "keys"
   ]
  },
  {
   "cell_type": "code",
   "execution_count": 66,
   "metadata": {},
   "outputs": [
    {
     "data": {
      "text/plain": [
       "[('demand', 70), ('order_quantity', 120)]"
      ]
     },
     "execution_count": 66,
     "metadata": {},
     "output_type": "execute_result"
    }
   ],
   "source": [
    "list(zip(keys, (70, 120)))"
   ]
  },
  {
   "cell_type": "code",
   "execution_count": 67,
   "metadata": {},
   "outputs": [
    {
     "data": {
      "text/plain": [
       "{'demand': 70, 'order_quantity': 120}"
      ]
     },
     "execution_count": 67,
     "metadata": {},
     "output_type": "execute_result"
    }
   ],
   "source": [
    "dict(zip(keys, (70, 120)))"
   ]
  },
  {
   "cell_type": "markdown",
   "metadata": {},
   "source": [
    "Ok, just put all these ideas together."
   ]
  },
  {
   "cell_type": "code",
   "execution_count": 68,
   "metadata": {},
   "outputs": [
    {
     "name": "stdout",
     "output_type": "stream",
     "text": [
      "[{'demand': 70, 'order_quantity': 70}, {'demand': 70, 'order_quantity': 120}, {'demand': 70, 'order_quantity': 170}, {'demand': 70, 'order_quantity': 220}, {'demand': 70, 'order_quantity': 270}, {'demand': 70, 'order_quantity': 320}, {'demand': 95, 'order_quantity': 70}, {'demand': 95, 'order_quantity': 120}, {'demand': 95, 'order_quantity': 170}, {'demand': 95, 'order_quantity': 220}, {'demand': 95, 'order_quantity': 270}, {'demand': 95, 'order_quantity': 320}, {'demand': 120, 'order_quantity': 70}, {'demand': 120, 'order_quantity': 120}, {'demand': 120, 'order_quantity': 170}, {'demand': 120, 'order_quantity': 220}, {'demand': 120, 'order_quantity': 270}, {'demand': 120, 'order_quantity': 320}, {'demand': 145, 'order_quantity': 70}, {'demand': 145, 'order_quantity': 120}, {'demand': 145, 'order_quantity': 170}, {'demand': 145, 'order_quantity': 220}, {'demand': 145, 'order_quantity': 270}, {'demand': 145, 'order_quantity': 320}, {'demand': 170, 'order_quantity': 70}, {'demand': 170, 'order_quantity': 120}, {'demand': 170, 'order_quantity': 170}, {'demand': 170, 'order_quantity': 220}, {'demand': 170, 'order_quantity': 270}, {'demand': 170, 'order_quantity': 320}, {'demand': 195, 'order_quantity': 70}, {'demand': 195, 'order_quantity': 120}, {'demand': 195, 'order_quantity': 170}, {'demand': 195, 'order_quantity': 220}, {'demand': 195, 'order_quantity': 270}, {'demand': 195, 'order_quantity': 320}, {'demand': 220, 'order_quantity': 70}, {'demand': 220, 'order_quantity': 120}, {'demand': 220, 'order_quantity': 170}, {'demand': 220, 'order_quantity': 220}, {'demand': 220, 'order_quantity': 270}, {'demand': 220, 'order_quantity': 320}, {'demand': 245, 'order_quantity': 70}, {'demand': 245, 'order_quantity': 120}, {'demand': 245, 'order_quantity': 170}, {'demand': 245, 'order_quantity': 220}, {'demand': 245, 'order_quantity': 270}, {'demand': 245, 'order_quantity': 320}, {'demand': 270, 'order_quantity': 70}, {'demand': 270, 'order_quantity': 120}, {'demand': 270, 'order_quantity': 170}, {'demand': 270, 'order_quantity': 220}, {'demand': 270, 'order_quantity': 270}, {'demand': 270, 'order_quantity': 320}, {'demand': 295, 'order_quantity': 70}, {'demand': 295, 'order_quantity': 120}, {'demand': 295, 'order_quantity': 170}, {'demand': 295, 'order_quantity': 220}, {'demand': 295, 'order_quantity': 270}, {'demand': 295, 'order_quantity': 320}, {'demand': 320, 'order_quantity': 70}, {'demand': 320, 'order_quantity': 120}, {'demand': 320, 'order_quantity': 170}, {'demand': 320, 'order_quantity': 220}, {'demand': 320, 'order_quantity': 270}, {'demand': 320, 'order_quantity': 320}]\n"
     ]
    }
   ],
   "source": [
    "param_grid = []\n",
    "\n",
    "keys, values = zip(*dt_param_ranges.items())\n",
    "\n",
    "for v in product(*values):\n",
    "    params = dict(zip(keys, v))\n",
    "    param_grid.append(params)\n",
    "        \n",
    "print(param_grid)"
   ]
  },
  {
   "cell_type": "markdown",
   "metadata": {},
   "source": [
    "Voila! We've recreated the same output as `ParameterGrid` gave us."
   ]
  },
  {
   "cell_type": "markdown",
   "metadata": {},
   "source": [
    "#### Creating the data_table function\n",
    "\n",
    "Our plan is to create a function that takes three inputs:\n",
    "\n",
    "* a model object such as model_5,\n",
    "* a dictionary containing the input attributes and associated ranges for the data table such as dt_param_ranges,\n",
    "* a list of outputs which are methods of the the model object; for example ['profit']\n",
    "\n",
    "Since we don't want the `data_table` function to modify our passed in model object, we'll create a copy of the model within the function. As we saw when copying list objects, we need to be careful when copying user defined objects. We'll create what is known as a *deep copy* using the `copy` library. Learn more about [shallow and deep copying here](https://docs.python.org/3/library/copy.html).\n",
    "\n",
    "Then we'll generate our parameter grid. I like to think of each element in the parameter grid, e.g. `{'demand': 295, 'order_quantity': 270}`, as a *scenario*. We loop over all the scenarios in the grid, updating the model copy and computing the requested outputs. For each scenario, we'll end up with a dictionary containing both the inputs and outputs. For example, `{'demand': 295, 'order_quantity': 270, 'profit':405.0}`. Each such dictionary will be stored in a list and then at the very end our function will convert this list to a pandas DataFrame and return it.\n",
    "\n",
    "Here's our first version. Take note of the use of `getattr` to indirectly call methods (e.g. `profit`) of the model."
   ]
  },
  {
   "cell_type": "code",
   "execution_count": 78,
   "metadata": {},
   "outputs": [
    {
     "data": {
      "text/plain": [
       "-138.0"
      ]
     },
     "execution_count": 78,
     "metadata": {},
     "output_type": "execute_result"
    }
   ],
   "source": [
    "# Demo of getattr for indirect method calling\n",
    "getattr(model_5, 'profit')()"
   ]
  },
  {
   "cell_type": "code",
   "execution_count": 79,
   "metadata": {},
   "outputs": [],
   "source": [
    "def data_table(model, scenario_inputs, outputs):\n",
    "    # TODO: Validit checking of inputs and outputs\n",
    "    \n",
    "    # Clone the model using deepcopy\n",
    "    model_clone = copy.deepcopy(model)\n",
    "    \n",
    "    # Create parameter grid\n",
    "    dt_param_grid = list(ParameterGrid(scenario_inputs))\n",
    "    \n",
    "    # Create the table as a list of dictionaries\n",
    "    results = []\n",
    "\n",
    "    # Loop over the scenarios\n",
    "    for params in dt_param_grid:\n",
    "        # Update the model clone with scenario specific values\n",
    "        model_clone.update(params)\n",
    "        # Create a result dictionary based on a copy of the scenario inputs\n",
    "        result = copy.copy(params)\n",
    "        # Loop over the list of requested outputs\n",
    "        for output in outputs:\n",
    "            # Compute the output.\n",
    "            out_val = getattr(model_clone, output)()\n",
    "            # Add the output to the result dictionary\n",
    "            result[output] = out_val\n",
    "            # Append the result dictionary to the results list\n",
    "            results.append(result)\n",
    "\n",
    "    # Convert the results list (of dictionaries) to a pandas DataFrame and return it\n",
    "    results_df = pd.DataFrame(results)\n",
    "    return results_df"
   ]
  },
  {
   "cell_type": "markdown",
   "metadata": {},
   "source": [
    "Okay, let's try it out. Also, since now the BookstoreModel class uses keyword arguments with defaults, I'm going to create a new model object in a slightly different way:\n",
    "* create a new model object and just take the zero default values for the input attributes\n",
    "* use the `update` method to set the input attributes via a dictionary"
   ]
  },
  {
   "cell_type": "code",
   "execution_count": 83,
   "metadata": {},
   "outputs": [],
   "source": [
    "# Create a dictionary of base input values\n",
    "\n",
    "base_inputs = {'unit_cost': 7.5, \n",
    "               'selling_price': 10.0, \n",
    "               'unit_refund': 2.5, \n",
    "               'order_quantity': 200, \n",
    "               'demand': 193}"
   ]
  },
  {
   "cell_type": "code",
   "execution_count": 84,
   "metadata": {},
   "outputs": [
    {
     "name": "stdout",
     "output_type": "stream",
     "text": [
      "{'unit_cost': 0, 'selling_price': 0, 'unit_refund': 0, 'order_quantity': 0, 'demand': 0}\n"
     ]
    },
    {
     "data": {
      "text/plain": [
       "0"
      ]
     },
     "execution_count": 84,
     "metadata": {},
     "output_type": "execute_result"
    }
   ],
   "source": [
    "# Create a new model with default input values (0's)\n",
    "model_6 = BookstoreModel()\n",
    "print(model_6)\n",
    "model_6.profit()"
   ]
  },
  {
   "cell_type": "code",
   "execution_count": 85,
   "metadata": {},
   "outputs": [
    {
     "name": "stdout",
     "output_type": "stream",
     "text": [
      "{'unit_cost': 7.5, 'selling_price': 10.0, 'unit_refund': 2.5, 'order_quantity': 200, 'demand': 193}\n"
     ]
    }
   ],
   "source": [
    "# Update model with base inputs\n",
    "model_6.update(base_inputs)\n",
    "print(model_6)"
   ]
  },
  {
   "cell_type": "code",
   "execution_count": 86,
   "metadata": {},
   "outputs": [
    {
     "data": {
      "text/html": [
       "<div>\n",
       "<style scoped>\n",
       "    .dataframe tbody tr th:only-of-type {\n",
       "        vertical-align: middle;\n",
       "    }\n",
       "\n",
       "    .dataframe tbody tr th {\n",
       "        vertical-align: top;\n",
       "    }\n",
       "\n",
       "    .dataframe thead th {\n",
       "        text-align: right;\n",
       "    }\n",
       "</style>\n",
       "<table border=\"1\" class=\"dataframe\">\n",
       "  <thead>\n",
       "    <tr style=\"text-align: right;\">\n",
       "      <th></th>\n",
       "      <th>demand</th>\n",
       "      <th>order_quantity</th>\n",
       "      <th>profit</th>\n",
       "      <th>order_cost</th>\n",
       "    </tr>\n",
       "  </thead>\n",
       "  <tbody>\n",
       "    <tr>\n",
       "      <th>0</th>\n",
       "      <td>70</td>\n",
       "      <td>70</td>\n",
       "      <td>175.0</td>\n",
       "      <td>525.0</td>\n",
       "    </tr>\n",
       "    <tr>\n",
       "      <th>1</th>\n",
       "      <td>70</td>\n",
       "      <td>70</td>\n",
       "      <td>175.0</td>\n",
       "      <td>525.0</td>\n",
       "    </tr>\n",
       "    <tr>\n",
       "      <th>2</th>\n",
       "      <td>70</td>\n",
       "      <td>120</td>\n",
       "      <td>-150.0</td>\n",
       "      <td>900.0</td>\n",
       "    </tr>\n",
       "    <tr>\n",
       "      <th>3</th>\n",
       "      <td>70</td>\n",
       "      <td>120</td>\n",
       "      <td>-150.0</td>\n",
       "      <td>900.0</td>\n",
       "    </tr>\n",
       "    <tr>\n",
       "      <th>4</th>\n",
       "      <td>70</td>\n",
       "      <td>170</td>\n",
       "      <td>-475.0</td>\n",
       "      <td>1275.0</td>\n",
       "    </tr>\n",
       "    <tr>\n",
       "      <th>...</th>\n",
       "      <td>...</td>\n",
       "      <td>...</td>\n",
       "      <td>...</td>\n",
       "      <td>...</td>\n",
       "    </tr>\n",
       "    <tr>\n",
       "      <th>127</th>\n",
       "      <td>320</td>\n",
       "      <td>220</td>\n",
       "      <td>550.0</td>\n",
       "      <td>1650.0</td>\n",
       "    </tr>\n",
       "    <tr>\n",
       "      <th>128</th>\n",
       "      <td>320</td>\n",
       "      <td>270</td>\n",
       "      <td>675.0</td>\n",
       "      <td>2025.0</td>\n",
       "    </tr>\n",
       "    <tr>\n",
       "      <th>129</th>\n",
       "      <td>320</td>\n",
       "      <td>270</td>\n",
       "      <td>675.0</td>\n",
       "      <td>2025.0</td>\n",
       "    </tr>\n",
       "    <tr>\n",
       "      <th>130</th>\n",
       "      <td>320</td>\n",
       "      <td>320</td>\n",
       "      <td>800.0</td>\n",
       "      <td>2400.0</td>\n",
       "    </tr>\n",
       "    <tr>\n",
       "      <th>131</th>\n",
       "      <td>320</td>\n",
       "      <td>320</td>\n",
       "      <td>800.0</td>\n",
       "      <td>2400.0</td>\n",
       "    </tr>\n",
       "  </tbody>\n",
       "</table>\n",
       "<p>132 rows × 4 columns</p>\n",
       "</div>"
      ],
      "text/plain": [
       "     demand  order_quantity  profit  order_cost\n",
       "0        70              70   175.0       525.0\n",
       "1        70              70   175.0       525.0\n",
       "2        70             120  -150.0       900.0\n",
       "3        70             120  -150.0       900.0\n",
       "4        70             170  -475.0      1275.0\n",
       "..      ...             ...     ...         ...\n",
       "127     320             220   550.0      1650.0\n",
       "128     320             270   675.0      2025.0\n",
       "129     320             270   675.0      2025.0\n",
       "130     320             320   800.0      2400.0\n",
       "131     320             320   800.0      2400.0\n",
       "\n",
       "[132 rows x 4 columns]"
      ]
     },
     "execution_count": 86,
     "metadata": {},
     "output_type": "execute_result"
    }
   ],
   "source": [
    "# Specify input ranges for scenarios (dictionary)\n",
    "dt_param_ranges = {'demand': np.arange(70, 321, 25),\n",
    "                   'order_quantity': np.arange(70, 321, 50)}\n",
    "\n",
    "# Specify desired outputs (list)\n",
    "outputs = ['profit', 'order_cost']\n",
    "\n",
    "# Use data_table function\n",
    "m6_dt1_df = data_table(model_6, dt_param_ranges, outputs)\n",
    "m6_dt1_df"
   ]
  },
  {
   "cell_type": "markdown",
   "metadata": {},
   "source": [
    "Let's plot the results using Seaborn."
   ]
  },
  {
   "cell_type": "code",
   "execution_count": 92,
   "metadata": {},
   "outputs": [
    {
     "data": {
      "image/png": "[encoded data removed]",
      "text/plain": [
       "<Figure size 648x432 with 6 Axes>"
      ]
     },
     "metadata": {},
     "output_type": "display_data"
    }
   ],
   "source": [
    "profit_dt_g = sns.FacetGrid(m6_dt1_df, col=\"order_quantity\", sharey=True, col_wrap=3)\n",
    "profit_dt_g = profit_dt_g.map(plt.plot, \"demand\", \"profit\")"
   ]
  },
  {
   "cell_type": "markdown",
   "metadata": {},
   "source": [
    "#### Goal Seek\n",
    "Find break even demand for an order quantity of 250 and all other inputs at their base values.\n",
    "\n",
    "Seems like using the `compute_profit` function is the way to go. Should be able to generalize to mulitple dimensions to create efficient frontier type outputs.\n",
    "\n",
    "https://stackoverflow.com/questions/14261474/how-do-i-write-a-function-that-returns-another-function\n",
    "\n",
    "https://docs.python.org/3/library/functools.html#partial-objects\n",
    "\n",
    "https://stackoverflow.com/questions/37052253/choose-which-variable-to-solve-for-python-root-finding-using-fsolve\n",
    "\n",
    "Actually, as you'll see below, this is quite a hornet's nest of meta-programming caused by the need to partially freeze the function for use with scipy.optimize but in which we don't know in advance which parameter will be the free one.\n",
    "\n",
    "Perhaps this would be easier with the OO version. That turned out to be pretty easy to use for data tables. ... Well, not seeing obvious way to do this with OO especially since the function I want to goal seek calls other methods within the model class. Thinking I need to not use scipy.optimize and just write it myself.\n",
    "\n",
    "https://github.com/patrickwalls/mathematical-python/ - has nice implementation of various root finding methods"
   ]
  },
  {
   "cell_type": "code",
   "execution_count": 96,
   "metadata": {},
   "outputs": [],
   "source": [
    "def bisection(f,a,b,N):\n",
    "    '''Approximate solution of f(x)=0 on interval [a,b] by bisection method.\n",
    "\n",
    "    Parameters\n",
    "    ----------\n",
    "    f : function\n",
    "        The function for which we are trying to approximate a solution f(x)=0.\n",
    "    a,b : numbers\n",
    "        The interval in which to search for a solution. The function returns\n",
    "        None if f(a)*f(b) >= 0 since a solution is not guaranteed.\n",
    "    N : (positive) integer\n",
    "        The number of iterations to implement.\n",
    "\n",
    "    Returns\n",
    "    -------\n",
    "    x_N : number\n",
    "        The midpoint of the Nth interval computed by the bisection method. The\n",
    "        initial interval [a_0,b_0] is given by [a,b]. If f(m_n) == 0 for some\n",
    "        midpoint m_n = (a_n + b_n)/2, then the function returns this solution.\n",
    "        If all signs of values f(a_n), f(b_n) and f(m_n) are the same at any\n",
    "        iteration, the bisection method fails and return None.\n",
    "\n",
    "    Examples\n",
    "    --------\n",
    "    >>> f = lambda x: x**2 - x - 1\n",
    "    >>> bisection(f,1,2,25)\n",
    "    1.618033990263939\n",
    "    >>> f = lambda x: (2*x - 1)*(x - 3)\n",
    "    >>> bisection(f,0,1,10)\n",
    "    0.5\n",
    "    '''\n",
    "    if f(a)*f(b) >= 0:\n",
    "        print(\"Bisection method fails.\")\n",
    "        return None\n",
    "    a_n = a\n",
    "    b_n = b\n",
    "    for n in range(1,N+1):\n",
    "        m_n = (a_n + b_n)/2\n",
    "        f_m_n = f(m_n)\n",
    "        if f(a_n)*f_m_n < 0:\n",
    "            a_n = a_n\n",
    "            b_n = m_n\n",
    "        elif f(b_n)*f_m_n < 0:\n",
    "            a_n = m_n\n",
    "            b_n = b_n\n",
    "        elif f_m_n == 0:\n",
    "            print(\"Found exact solution.\")\n",
    "            return m_n\n",
    "        else:\n",
    "            print(\"Bisection method fails.\")\n",
    "            return None\n",
    "    return (a_n + b_n)/2"
   ]
  },
  {
   "cell_type": "code",
   "execution_count": 97,
   "metadata": {},
   "outputs": [],
   "source": [
    "def goal_seek(model, obj_fn, target, by_changing, a, b, N=100):\n",
    "    # TODO: Checking of inputs and outputs\n",
    "    \n",
    "    # Clone the model\n",
    "    model_clone = copy.deepcopy(model)\n",
    "    \n",
    "    # The following bisection search is a direct adaptation of\n",
    "    # https://www.math.ubc.ca/~pwalls/math-python/roots-optimization/bisection/\n",
    "    # The changes include needing to use an object method instead of a global function\n",
    "    # and the inclusion of a non-zero target value.\n",
    "    \n",
    "    setattr(model_clone, by_changing, a)\n",
    "    f_a_0 = getattr(model_clone, obj_fn)()\n",
    "    setattr(model_clone, by_changing, b)\n",
    "    f_b_0 = getattr(model_clone, obj_fn)()\n",
    "    \n",
    "    if (f_a_0 - target) * (f_b_0 - target) >= 0:\n",
    "        print(\"Bisection method fails.\")\n",
    "        return None\n",
    "    \n",
    "    a_n = a\n",
    "    b_n = b\n",
    "    for n in range(1, N+1):\n",
    "        m_n = (a_n + b_n)/2\n",
    "        \n",
    "        setattr(model_clone, by_changing, m_n)\n",
    "        f_m_n = getattr(model_clone, obj_fn)()\n",
    "        \n",
    "        setattr(model_clone, by_changing, a_n)\n",
    "        f_a_n = getattr(model_clone, obj_fn)()\n",
    "        \n",
    "        setattr(model_clone, by_changing, b_n)\n",
    "        f_b_n = getattr(model_clone, obj_fn)()\n",
    "\n",
    "        if (f_a_n - target) * (f_m_n - target) < 0:\n",
    "            a_n = a_n\n",
    "            b_n = m_n\n",
    "        elif (f_b_n - target) * (f_m_n - target) < 0:\n",
    "            a_n = m_n\n",
    "            b_n = b_n\n",
    "        elif f_m_n == target:\n",
    "            print(\"Found exact solution.\")\n",
    "            return (m_n, n)\n",
    "        else:\n",
    "            print(\"Bisection method fails.\")\n",
    "            return None\n",
    "    \n",
    "    return ((a_n + b_n)/2, n)"
   ]
  },
  {
   "cell_type": "code",
   "execution_count": 98,
   "metadata": {},
   "outputs": [
    {
     "name": "stdout",
     "output_type": "stream",
     "text": [
      "{'unit_cost': 7.5, 'selling_price': 10.0, 'unit_refund': 2.5, 'order_quantity': 200, 'demand': 193}\n"
     ]
    }
   ],
   "source": [
    "print(model1)"
   ]
  },
  {
   "cell_type": "code",
   "execution_count": 99,
   "metadata": {},
   "outputs": [
    {
     "data": {
      "text/plain": [
       "437.0"
      ]
     },
     "execution_count": 99,
     "metadata": {},
     "output_type": "execute_result"
    }
   ],
   "source": [
    "model1.profit()"
   ]
  },
  {
   "cell_type": "code",
   "execution_count": 100,
   "metadata": {},
   "outputs": [
    {
     "name": "stdout",
     "output_type": "stream",
     "text": [
      "Found exact solution.\n"
     ]
    },
    {
     "data": {
      "text/plain": [
       "(144.44444444444446, 51)"
      ]
     },
     "execution_count": 100,
     "metadata": {},
     "output_type": "execute_result"
    }
   ],
   "source": [
    "goal_seek(model1, 'profit', 0.0, 'demand', 100, 500, N=100)"
   ]
  },
  {
   "cell_type": "code",
   "execution_count": 101,
   "metadata": {},
   "outputs": [
    {
     "name": "stdout",
     "output_type": "stream",
     "text": [
      "Found exact solution.\n"
     ]
    },
    {
     "data": {
      "text/plain": [
       "(7.7357512953367875, 55)"
      ]
     },
     "execution_count": 101,
     "metadata": {},
     "output_type": "execute_result"
    }
   ],
   "source": [
    "goal_seek(model1, 'profit', 0.0, 'selling_price', 1.0, 25.0, N=100)"
   ]
  },
  {
   "cell_type": "markdown",
   "metadata": {},
   "source": [
    "## Attempt at non-OO version of Goal Seek\n",
    "\n",
    "This got nasty but led down all kinds of interesting side paths having to do with partial function freezing, lambda functions, currying, function signatures and more."
   ]
  },
  {
   "cell_type": "code",
   "execution_count": 102,
   "metadata": {},
   "outputs": [],
   "source": [
    "unit_cost = 7.50\n",
    "selling_price = 10.00\n",
    "unit_refund = 2.50\n",
    "order_quantity = 200\n",
    "\n",
    "profit_demand = partial(compute_profit, unit_cost=unit_cost, selling_price=selling_price,\n",
    "                   unit_refund=unit_refund, order_quantity=order_quantity)"
   ]
  },
  {
   "cell_type": "markdown",
   "metadata": {},
   "source": [
    "In order to dynamically change the calling order on compute_profit, which we need to do depending on the variable that is being treated as the \"changing cell\", we have to wrap it in a lambda function that has its args in the desired order and then wrap that with partial. Now we should be able to use this version in scipy.optimize.\n",
    "\n",
    "Got idea from:\n",
    "\n",
    "https://stackoverflow.com/questions/51583924/python-typeerror-multiple-arguments-with-functools-partial\n",
    "\n",
    "If we don't do this, we get the following behavior and we can't use it in scipy.optimize"
   ]
  },
  {
   "cell_type": "code",
   "execution_count": 103,
   "metadata": {},
   "outputs": [
    {
     "data": {
      "text/plain": [
       "\"\\n---------------------------------------------------------------------------\\nTypeError                                 Traceback (most recent call last)\\n<ipython-input-106-0c7da8d554f8> in <module>\\n----> 1 print(profit_demand(190))\\n\\nTypeError: compute_profit() got multiple values for argument 'unit_cost'\\n\""
      ]
     },
     "execution_count": 103,
     "metadata": {},
     "output_type": "execute_result"
    }
   ],
   "source": [
    "# print(profit_demand(190))\n",
    "\n",
    "'''\n",
    "---------------------------------------------------------------------------\n",
    "TypeError                                 Traceback (most recent call last)\n",
    "<ipython-input-106-0c7da8d554f8> in <module>\n",
    "----> 1 print(profit_demand(190))\n",
    "\n",
    "TypeError: compute_profit() got multiple values for argument 'unit_cost'\n",
    "'''"
   ]
  },
  {
   "cell_type": "code",
   "execution_count": 104,
   "metadata": {},
   "outputs": [],
   "source": [
    "profit_demand_2 = partial(lambda d, uc, sp, uf, oq: compute_profit(uc, sp, uf, oq, d),\n",
    "                          uc=unit_cost, sp=selling_price, \n",
    "                          uf=unit_refund,\n",
    "                          oq=order_quantity)"
   ]
  },
  {
   "cell_type": "code",
   "execution_count": 105,
   "metadata": {},
   "outputs": [
    {
     "name": "stdout",
     "output_type": "stream",
     "text": [
      "410.0\n",
      "410.0\n"
     ]
    }
   ],
   "source": [
    "print(profit_demand_2(190))\n",
    "print(profit_demand(demand=190))"
   ]
  },
  {
   "cell_type": "code",
   "execution_count": 106,
   "metadata": {},
   "outputs": [
    {
     "data": {
      "text/plain": [
       "()"
      ]
     },
     "execution_count": 106,
     "metadata": {},
     "output_type": "execute_result"
    }
   ],
   "source": [
    "profit_demand.args"
   ]
  },
  {
   "cell_type": "code",
   "execution_count": 107,
   "metadata": {},
   "outputs": [
    {
     "data": {
      "text/plain": [
       "{'unit_cost': 7.5,\n",
       " 'selling_price': 10.0,\n",
       " 'unit_refund': 2.5,\n",
       " 'order_quantity': 200}"
      ]
     },
     "execution_count": 107,
     "metadata": {},
     "output_type": "execute_result"
    }
   ],
   "source": [
    "profit_demand.keywords"
   ]
  },
  {
   "cell_type": "code",
   "execution_count": 108,
   "metadata": {},
   "outputs": [
    {
     "data": {
      "text/plain": [
       "<function __main__.compute_profit(unit_cost, selling_price, unit_refund, order_quantity, demand)>"
      ]
     },
     "execution_count": 108,
     "metadata": {},
     "output_type": "execute_result"
    }
   ],
   "source": [
    "profit_demand.func"
   ]
  },
  {
   "cell_type": "code",
   "execution_count": 109,
   "metadata": {},
   "outputs": [
    {
     "data": {
      "text/plain": [
       "array([-670., -625., -580., -535., -490., -445., -400., -355., -310.,\n",
       "       -265., -220., -175., -130.,  -85.,  -40.,    5.,   50.,   95.,\n",
       "        140.,  185.,  230.,  275.,  320.,  365.,  410.,  455.,  500.,\n",
       "        500.,  500.,  500.,  500.,  500.,  500.,  500.,  500.,  500.,\n",
       "        500.,  500.,  500.,  500.,  500.,  500.,  500.,  500.,  500.,\n",
       "        500.,  500.,  500.,  500.,  500.,  500.])"
      ]
     },
     "execution_count": 109,
     "metadata": {},
     "output_type": "execute_result"
    }
   ],
   "source": [
    "profit_demand(demand=demand)"
   ]
  },
  {
   "cell_type": "code",
   "execution_count": 110,
   "metadata": {},
   "outputs": [
    {
     "data": {
      "text/plain": [
       "array([ 70,  75,  80,  85,  90,  95, 100, 105, 110, 115, 120, 125, 130,\n",
       "       135, 140, 145, 150, 155, 160, 165, 170, 175, 180, 185, 190, 195,\n",
       "       200, 205, 210, 215, 220, 225, 230, 235, 240, 245, 250, 255, 260,\n",
       "       265, 270, 275, 280, 285, 290, 295, 300, 305, 310, 315, 320])"
      ]
     },
     "execution_count": 110,
     "metadata": {},
     "output_type": "execute_result"
    }
   ],
   "source": [
    "demand"
   ]
  },
  {
   "cell_type": "code",
   "execution_count": 111,
   "metadata": {},
   "outputs": [
    {
     "data": {
      "text/plain": [
       "array([-670., -625., -580., -535., -490., -445., -400., -355., -310.,\n",
       "       -265., -220., -175., -130.,  -85.,  -40.,    5.,   50.,   95.,\n",
       "        140.,  185.,  230.,  275.,  320.,  365.,  410.,  455.,  500.,\n",
       "        500.,  500.,  500.,  500.,  500.,  500.,  500.,  500.,  500.,\n",
       "        500.,  500.,  500.,  500.,  500.,  500.,  500.,  500.,  500.,\n",
       "        500.,  500.,  500.,  500.,  500.,  500.])"
      ]
     },
     "execution_count": 111,
     "metadata": {},
     "output_type": "execute_result"
    }
   ],
   "source": [
    "profit_demand_2(demand)"
   ]
  },
  {
   "cell_type": "code",
   "execution_count": 112,
   "metadata": {},
   "outputs": [
    {
     "data": {
      "text/plain": [
       "      converged: True\n",
       "           flag: 'converged'\n",
       " function_calls: 6\n",
       "     iterations: 5\n",
       "           root: 144.44444444444443"
      ]
     },
     "execution_count": 112,
     "metadata": {},
     "output_type": "execute_result"
    }
   ],
   "source": [
    "optimize.root_scalar(profit_demand_2, bracket=[0, 500])"
   ]
  },
  {
   "cell_type": "code",
   "execution_count": 113,
   "metadata": {},
   "outputs": [
    {
     "data": {
      "text/plain": [
       "\u001b[0;31mSignature:\u001b[0m      \u001b[0mprofit_demand_2\u001b[0m\u001b[0;34m(\u001b[0m\u001b[0md\u001b[0m\u001b[0;34m,\u001b[0m \u001b[0;34m*\u001b[0m\u001b[0;34m,\u001b[0m \u001b[0muc\u001b[0m\u001b[0;34m=\u001b[0m\u001b[0;36m7.5\u001b[0m\u001b[0;34m,\u001b[0m \u001b[0msp\u001b[0m\u001b[0;34m=\u001b[0m\u001b[0;36m10.0\u001b[0m\u001b[0;34m,\u001b[0m \u001b[0muf\u001b[0m\u001b[0;34m=\u001b[0m\u001b[0;36m2.5\u001b[0m\u001b[0;34m,\u001b[0m \u001b[0moq\u001b[0m\u001b[0;34m=\u001b[0m\u001b[0;36m200\u001b[0m\u001b[0;34m)\u001b[0m\u001b[0;34m\u001b[0m\u001b[0;34m\u001b[0m\u001b[0m\n",
       "\u001b[0;31mCall signature:\u001b[0m \u001b[0mprofit_demand_2\u001b[0m\u001b[0;34m(\u001b[0m\u001b[0;34m*\u001b[0m\u001b[0margs\u001b[0m\u001b[0;34m,\u001b[0m \u001b[0;34m**\u001b[0m\u001b[0mkwargs\u001b[0m\u001b[0;34m)\u001b[0m\u001b[0;34m\u001b[0m\u001b[0;34m\u001b[0m\u001b[0m\n",
       "\u001b[0;31mType:\u001b[0m           partial\n",
       "\u001b[0;31mString form:\u001b[0m    functools.partial(<function <lambda> at 0x7f7488f83ee0>, uc=7.5, sp=10.0, uf=2.5, oq=200)\n",
       "\u001b[0;31mFile:\u001b[0m           ~/anaconda3/envs/mginf/lib/python3.8/functools.py\n",
       "\u001b[0;31mDocstring:\u001b[0m     \n",
       "partial(func, *args, **keywords) - new function with partial application\n",
       "of the given arguments and keywords.\n"
      ]
     },
     "metadata": {},
     "output_type": "display_data"
    }
   ],
   "source": [
    "profit_demand_2?"
   ]
  },
  {
   "cell_type": "markdown",
   "metadata": {},
   "source": [
    "Ok, so for a given variable for which to goal seek, we can write a partial lambda function to do the goal seek. Now, how can we create a function that creates the partial lambda function and that takes as input the base `compute_profit` function and the name of the keyword arg representing the decision variable?\n",
    "\n",
    "https://stackoverflow.com/questions/14261474/how-do-i-write-a-function-that-returns-another-function\n",
    "\n",
    "https://en.wikipedia.org/wiki/Currying"
   ]
  },
  {
   "cell_type": "code",
   "execution_count": 114,
   "metadata": {},
   "outputs": [
    {
     "data": {
      "text/plain": [
       "\u001b[0;31mSignature:\u001b[0m\n",
       "\u001b[0mcompute_profit\u001b[0m\u001b[0;34m(\u001b[0m\u001b[0;34m\u001b[0m\n",
       "\u001b[0;34m\u001b[0m    \u001b[0munit_cost\u001b[0m\u001b[0;34m,\u001b[0m\u001b[0;34m\u001b[0m\n",
       "\u001b[0;34m\u001b[0m    \u001b[0mselling_price\u001b[0m\u001b[0;34m,\u001b[0m\u001b[0;34m\u001b[0m\n",
       "\u001b[0;34m\u001b[0m    \u001b[0munit_refund\u001b[0m\u001b[0;34m,\u001b[0m\u001b[0;34m\u001b[0m\n",
       "\u001b[0;34m\u001b[0m    \u001b[0morder_quantity\u001b[0m\u001b[0;34m,\u001b[0m\u001b[0;34m\u001b[0m\n",
       "\u001b[0;34m\u001b[0m    \u001b[0mdemand\u001b[0m\u001b[0;34m,\u001b[0m\u001b[0;34m\u001b[0m\n",
       "\u001b[0;34m\u001b[0m\u001b[0;34m)\u001b[0m\u001b[0;34m\u001b[0m\u001b[0;34m\u001b[0m\u001b[0m\n",
       "\u001b[0;31mDocstring:\u001b[0m Compute profit in bookstore model\n",
       "\u001b[0;31mFile:\u001b[0m      ~/Documents/teaching/adv_analytics/abm/notebooks/<ipython-input-78-30ab07516e02>\n",
       "\u001b[0;31mType:\u001b[0m      function\n"
      ]
     },
     "metadata": {},
     "output_type": "display_data"
    }
   ],
   "source": [
    "compute_profit?"
   ]
  },
  {
   "cell_type": "code",
   "execution_count": 116,
   "metadata": {},
   "outputs": [
    {
     "data": {
      "text/plain": [
       "'\\n    Compute profit in bookstore model\\n    '"
      ]
     },
     "execution_count": 116,
     "metadata": {},
     "output_type": "execute_result"
    }
   ],
   "source": [
    "compute_profit.__doc__"
   ]
  },
  {
   "cell_type": "code",
   "execution_count": 117,
   "metadata": {},
   "outputs": [
    {
     "data": {
      "text/plain": [
       "{}"
      ]
     },
     "execution_count": 117,
     "metadata": {},
     "output_type": "execute_result"
    }
   ],
   "source": [
    "compute_profit.__dict__"
   ]
  },
  {
   "cell_type": "markdown",
   "metadata": {},
   "source": [
    "https://docs.python.org/3/library/inspect.html\n",
    "\n",
    "https://treyhunner.com/2018/04/keyword-arguments-in-python/"
   ]
  },
  {
   "cell_type": "code",
   "execution_count": 118,
   "metadata": {},
   "outputs": [],
   "source": [
    "\n",
    "import inspect"
   ]
  },
  {
   "cell_type": "code",
   "execution_count": 119,
   "metadata": {},
   "outputs": [
    {
     "data": {
      "text/plain": [
       "'Compute profit in bookstore model'"
      ]
     },
     "execution_count": 119,
     "metadata": {},
     "output_type": "execute_result"
    }
   ],
   "source": [
    "inspect.getdoc(compute_profit)"
   ]
  },
  {
   "cell_type": "markdown",
   "metadata": {},
   "source": [
    "Signature objects are important and powerful for function programming.\n",
    "\n",
    "https://www.python.org/dev/peps/pep-0362/"
   ]
  },
  {
   "cell_type": "code",
   "execution_count": 120,
   "metadata": {},
   "outputs": [
    {
     "data": {
      "text/plain": [
       "<Signature (unit_cost, selling_price, unit_refund, order_quantity, demand)>"
      ]
     },
     "execution_count": 120,
     "metadata": {},
     "output_type": "execute_result"
    }
   ],
   "source": [
    "inspect.signature(compute_profit)"
   ]
  },
  {
   "cell_type": "code",
   "execution_count": 121,
   "metadata": {},
   "outputs": [
    {
     "data": {
      "text/plain": [
       "['__class__',\n",
       " '__delattr__',\n",
       " '__dir__',\n",
       " '__doc__',\n",
       " '__eq__',\n",
       " '__format__',\n",
       " '__ge__',\n",
       " '__getattribute__',\n",
       " '__gt__',\n",
       " '__hash__',\n",
       " '__init__',\n",
       " '__init_subclass__',\n",
       " '__le__',\n",
       " '__lt__',\n",
       " '__module__',\n",
       " '__ne__',\n",
       " '__new__',\n",
       " '__reduce__',\n",
       " '__reduce_ex__',\n",
       " '__repr__',\n",
       " '__setattr__',\n",
       " '__setstate__',\n",
       " '__sizeof__',\n",
       " '__slots__',\n",
       " '__str__',\n",
       " '__subclasshook__',\n",
       " '_bind',\n",
       " '_bound_arguments_cls',\n",
       " '_hash_basis',\n",
       " '_parameter_cls',\n",
       " '_parameters',\n",
       " '_return_annotation',\n",
       " 'bind',\n",
       " 'bind_partial',\n",
       " 'empty',\n",
       " 'from_builtin',\n",
       " 'from_callable',\n",
       " 'from_function',\n",
       " 'parameters',\n",
       " 'replace',\n",
       " 'return_annotation']"
      ]
     },
     "execution_count": 121,
     "metadata": {},
     "output_type": "execute_result"
    }
   ],
   "source": [
    "dir(inspect.signature(compute_profit))"
   ]
  },
  {
   "cell_type": "code",
   "execution_count": 122,
   "metadata": {},
   "outputs": [
    {
     "data": {
      "text/plain": [
       "mappingproxy({'unit_cost': <Parameter \"unit_cost\">,\n",
       "              'selling_price': <Parameter \"selling_price\">,\n",
       "              'unit_refund': <Parameter \"unit_refund\">,\n",
       "              'order_quantity': <Parameter \"order_quantity\">,\n",
       "              'demand': <Parameter \"demand\">})"
      ]
     },
     "execution_count": 122,
     "metadata": {},
     "output_type": "execute_result"
    }
   ],
   "source": [
    "sig = inspect.signature(compute_profit)\n",
    "sig.parameters"
   ]
  },
  {
   "cell_type": "code",
   "execution_count": 123,
   "metadata": {},
   "outputs": [
    {
     "data": {
      "text/plain": [
       "<Parameter \"unit_cost\">"
      ]
     },
     "execution_count": 123,
     "metadata": {},
     "output_type": "execute_result"
    }
   ],
   "source": [
    "sig.parameters['unit_cost']"
   ]
  },
  {
   "cell_type": "code",
   "execution_count": 124,
   "metadata": {},
   "outputs": [
    {
     "data": {
      "text/plain": [
       "<Parameter \"unit_cost=100\">"
      ]
     },
     "execution_count": 124,
     "metadata": {},
     "output_type": "execute_result"
    }
   ],
   "source": [
    "sig.parameters['unit_cost'].replace(default=100)"
   ]
  },
  {
   "cell_type": "code",
   "execution_count": 134,
   "metadata": {},
   "outputs": [],
   "source": [
    "#dir(sig.parameters)"
   ]
  },
  {
   "cell_type": "code",
   "execution_count": 126,
   "metadata": {},
   "outputs": [
    {
     "name": "stdout",
     "output_type": "stream",
     "text": [
      "('unit_cost', <Parameter \"unit_cost\">)\n",
      "unit_cost\n",
      "<class 'inspect._empty'>\n",
      "('selling_price', <Parameter \"selling_price\">)\n",
      "selling_price\n",
      "<class 'inspect._empty'>\n",
      "('unit_refund', <Parameter \"unit_refund\">)\n",
      "unit_refund\n",
      "<class 'inspect._empty'>\n",
      "('order_quantity', <Parameter \"order_quantity\">)\n",
      "order_quantity\n",
      "<class 'inspect._empty'>\n",
      "('demand', <Parameter \"demand\">)\n",
      "demand\n",
      "<class 'inspect._empty'>\n"
     ]
    }
   ],
   "source": [
    "for item in sig.parameters.items():\n",
    "    print(item)\n",
    "    print(item[1].name)\n",
    "    print(item[1].default)"
   ]
  },
  {
   "cell_type": "code",
   "execution_count": null,
   "metadata": {},
   "outputs": [],
   "source": []
  },
  {
   "cell_type": "code",
   "execution_count": 127,
   "metadata": {},
   "outputs": [
    {
     "data": {
      "text/plain": [
       "\"def compute_profit(unit_cost, selling_price, unit_refund, order_quantity, demand):\\n    '''\\n    Compute profit in bookstore model\\n    '''\\n    order_cost = unit_cost * order_quantity\\n    sales_revenue = np.minimum(order_quantity, demand) * selling_price\\n    refund_revenue = np.maximum(0, order_quantity - demand)\\n    profit = sales_revenue + refund_revenue - order_cost\\n    return profit\\n\""
      ]
     },
     "execution_count": 127,
     "metadata": {},
     "output_type": "execute_result"
    }
   ],
   "source": [
    "inspect.getsource(compute_profit)"
   ]
  },
  {
   "cell_type": "code",
   "execution_count": 128,
   "metadata": {},
   "outputs": [
    {
     "data": {
      "text/plain": [
       "['def compute_profit(unit_cost, selling_price, unit_refund, order_quantity, demand):\\n',\n",
       " \"    '''\\n\",\n",
       " '    Compute profit in bookstore model\\n',\n",
       " \"    '''\\n\",\n",
       " '    order_cost = unit_cost * order_quantity\\n',\n",
       " '    sales_revenue = np.minimum(order_quantity, demand) * selling_price\\n',\n",
       " '    refund_revenue = np.maximum(0, order_quantity - demand)\\n',\n",
       " '    profit = sales_revenue + refund_revenue - order_cost\\n',\n",
       " '    return profit\\n']"
      ]
     },
     "execution_count": 128,
     "metadata": {},
     "output_type": "execute_result"
    }
   ],
   "source": [
    "inspect.getsourcelines(compute_profit)[0]"
   ]
  },
  {
   "cell_type": "code",
   "execution_count": 135,
   "metadata": {},
   "outputs": [],
   "source": [
    "#inspect.getmembers(compute_profit)"
   ]
  },
  {
   "cell_type": "code",
   "execution_count": null,
   "metadata": {},
   "outputs": [],
   "source": []
  },
  {
   "cell_type": "code",
   "execution_count": 130,
   "metadata": {},
   "outputs": [],
   "source": [
    "var = \"demand\"\n",
    "# Create dictionary of key word args for all but var \n",
    "# The parameters attribute is an OrderedDict (see PEP 362)\n",
    "fixed_inputs = {key:value for (key, value) in sig.parameters.items() if\n",
    "                   key != var}\n",
    "var_input = {key:value for (key, value) in sig.parameters.items() if\n",
    "                   key == var}"
   ]
  },
  {
   "cell_type": "code",
   "execution_count": 131,
   "metadata": {},
   "outputs": [
    {
     "name": "stdout",
     "output_type": "stream",
     "text": [
      "{'unit_cost': <Parameter \"unit_cost\">, 'selling_price': <Parameter \"selling_price\">, 'unit_refund': <Parameter \"unit_refund\">, 'order_quantity': <Parameter \"order_quantity\">}\n",
      "{'demand': <Parameter \"demand\">}\n"
     ]
    }
   ],
   "source": [
    "print(fixed_inputs)\n",
    "print(var_input)"
   ]
  },
  {
   "cell_type": "markdown",
   "metadata": {},
   "source": [
    "https://stackoverflow.com/questions/938429/scope-of-lambda-functions-and-their-parameters"
   ]
  },
  {
   "cell_type": "code",
   "execution_count": 132,
   "metadata": {},
   "outputs": [],
   "source": [
    "fixed_inputs = {'unit_cost': 7.5,\n",
    " 'selling_price': 10.0,\n",
    " 'unit_refund': 2.5,\n",
    " 'order_quantity': 200}\n",
    "\n",
    "def make_partial_profit(fn, fixed_inputs, var_input):\n",
    "     \n",
    "    partial(lambda d, uc, sp, uf, oq: compute_profit(uc, sp, uf, oq, d),\n",
    "                          **fixed_inputs)"
   ]
  },
  {
   "cell_type": "code",
   "execution_count": null,
   "metadata": {},
   "outputs": [],
   "source": []
  },
  {
   "cell_type": "code",
   "execution_count": 133,
   "metadata": {},
   "outputs": [],
   "source": [
    "profit_demand_2 = partial(lambda d, uc, sp, uf, oq: compute_profit(uc, sp, uf, oq, d),\n",
    "                          uc=unit_cost, sp=selling_price, \n",
    "                          uf=unit_refund,\n",
    "                          oq=order_quantity)"
   ]
  },
  {
   "cell_type": "code",
   "execution_count": null,
   "metadata": {},
   "outputs": [],
   "source": []
  },
  {
   "cell_type": "code",
   "execution_count": null,
   "metadata": {},
   "outputs": [],
   "source": []
  },
  {
   "cell_type": "code",
   "execution_count": null,
   "metadata": {},
   "outputs": [],
   "source": []
  },
  {
   "cell_type": "markdown",
   "metadata": {},
   "source": [
    "#### Monte-carlo sim\n",
    "\n",
    "We can do MC sim using both OO and non-OO versions of our model using the same ideas as we did for creating data tables. For the non-OO we can generate a vector of random demand realizations and then feed that vector to our `compute_profit` function. We'll end up with a vector of profits with the same number of elements as in our demand vector. Then we can analyze the results with statistics and histograms, for example."
   ]
  },
  {
   "cell_type": "markdown",
   "metadata": {},
   "source": [
    "Recently, numpy has updated their random variable generation routines. The details are at:\n",
    "\n",
    "https://numpy.org/doc/stable/reference/random/index.html\n",
    "\n",
    "\n",
    "\n",
    "\n",
    "The `scipy.stats` module contains a large number of probability distributions. Each has numerous functions for calculating things such as pdf or CDF values, quantiles, and various moments. There are also functions for generating random variates from these distributions. You can see the details at https://docs.scipy.org/doc/scipy/reference/stats.html.\n",
    "\n",
    "Let's assume we want to model demand with a normal distribution. If you recall, we already initialized variables `demand_mean` and `demand_sd` with the mean and standard deviation of demand. We'll use these.\n",
    "\n",
    "First we import the necessary function from `scipy.stats` and then we can generate the normally distributed random variates. I'm going to generate 1000 variates. To make sure this worked, we can create a histogram of the random variates and we expect it to be pretty bell-shaped. We can also overlay the normal density function for a normal distribution with the specified mean and standard deviation. "
   ]
  },
  {
   "cell_type": "code",
   "execution_count": 136,
   "metadata": {},
   "outputs": [
    {
     "name": "stdout",
     "output_type": "stream",
     "text": [
      "Demand mean = 193\n",
      "Demand sd = 40\n"
     ]
    }
   ],
   "source": [
    "print(f\"Demand mean = {demand_mean}\")\n",
    "print(f\"Demand sd = {demand_sd}\")"
   ]
  },
  {
   "cell_type": "code",
   "execution_count": 137,
   "metadata": {},
   "outputs": [],
   "source": [
    "from scipy.stats import norm"
   ]
  },
  {
   "cell_type": "markdown",
   "metadata": {},
   "source": [
    "First we need to import the default random number generator and create a random generator variable. I'll use 4470 as the seed. This generator generates numbers uniformly between 0 and 1. Then we use it to generate random variates from whatever distribution we choose."
   ]
  },
  {
   "cell_type": "code",
   "execution_count": 138,
   "metadata": {},
   "outputs": [
    {
     "data": {
      "text/plain": [
       "0.45855804438027437"
      ]
     },
     "execution_count": 138,
     "metadata": {},
     "output_type": "execute_result"
    }
   ],
   "source": [
    "from numpy.random import default_rng\n",
    "rg = default_rng(4470)\n",
    "rg.random()"
   ]
  },
  {
   "cell_type": "code",
   "execution_count": 139,
   "metadata": {},
   "outputs": [],
   "source": [
    "demand_sim = rg.normal(demand_mean, demand_sd, 1000)"
   ]
  },
  {
   "cell_type": "markdown",
   "metadata": {},
   "source": [
    "Obviously we are generating variates from a continuous distribution."
   ]
  },
  {
   "cell_type": "code",
   "execution_count": 140,
   "metadata": {},
   "outputs": [
    {
     "data": {
      "text/plain": [
       "array([217.03616307, 133.37168121, 231.54405167, 215.05711803,\n",
       "       183.66669223, 268.28497816, 255.99191635, 188.58125604,\n",
       "       164.62174798, 170.1384389 ])"
      ]
     },
     "execution_count": 140,
     "metadata": {},
     "output_type": "execute_result"
    }
   ],
   "source": [
    "demand_sim[:10]"
   ]
  },
  {
   "cell_type": "markdown",
   "metadata": {},
   "source": [
    "If we want integer valued demands, we can simply round the values."
   ]
  },
  {
   "cell_type": "code",
   "execution_count": 141,
   "metadata": {},
   "outputs": [
    {
     "data": {
      "text/plain": [
       "array([218., 203., 186., 203., 215., 151., 255., 176., 223., 252.])"
      ]
     },
     "execution_count": 141,
     "metadata": {},
     "output_type": "execute_result"
    }
   ],
   "source": [
    "demand_sim = np.around(rg.normal(demand_mean, demand_sd, 1000))\n",
    "demand_sim[:10]"
   ]
  },
  {
   "cell_type": "markdown",
   "metadata": {},
   "source": [
    "Before plotting the histogram, let's compute basic summary stats for our vector of random demands."
   ]
  },
  {
   "cell_type": "code",
   "execution_count": 142,
   "metadata": {},
   "outputs": [
    {
     "name": "stdout",
     "output_type": "stream",
     "text": [
      "Mean demand = 192.056, Std dev demand = 40.170\n"
     ]
    }
   ],
   "source": [
    "print(f\"Mean demand = {demand_sim.mean():.3f}, Std dev demand = {demand_sim.std():.3f}\")"
   ]
  },
  {
   "cell_type": "markdown",
   "metadata": {},
   "source": [
    "Now let's use scipy to create a normal random variable instance with the mean and standard deviation based on `demand_mean` and `demand_sd`. Note the data type. Then we'll be able to use its built in `pdf` method to plot its density and its `ppf` method to get percentiles to use for our x-axis limits."
   ]
  },
  {
   "cell_type": "code",
   "execution_count": 143,
   "metadata": {},
   "outputs": [
    {
     "name": "stdout",
     "output_type": "stream",
     "text": [
      "<class 'scipy.stats._distn_infrastructure.rv_frozen'>\n"
     ]
    }
   ],
   "source": [
    "rv_normal = norm(loc=demand_mean, scale=demand_sd)\n",
    "print(type(rv_normal))"
   ]
  },
  {
   "cell_type": "code",
   "execution_count": 144,
   "metadata": {},
   "outputs": [
    {
     "data": {
      "image/png": "[encoded data removed]",
      "text/plain": [
       "<Figure size 432x288 with 1 Axes>"
      ]
     },
     "metadata": {},
     "output_type": "display_data"
    }
   ],
   "source": [
    "plt.title(\"Demand histogram\")\n",
    "plt.xlabel(\"Demand\")\n",
    "plt.ylabel(\"Density\")\n",
    "plt.hist(demand_sim, density=True);\n",
    "\n",
    "x_normal = np.linspace(rv_normal.ppf(0.0001),\n",
    "                rv_normal.ppf(0.999), 500)\n",
    "\n",
    "plt.plot(x_normal, rv_normal.pdf(x_normal),\n",
    "       'r-', lw=3, alpha=0.6, label='Normal pdf');"
   ]
  },
  {
   "cell_type": "markdown",
   "metadata": {},
   "source": [
    "Now that we can generate random demands, we can \"simulate\" by simply passing in the vector of random demands to the `compute_profit` function (all the other model inputs are held fixed at their current values. Let's remind ourselves of these values."
   ]
  },
  {
   "cell_type": "code",
   "execution_count": 145,
   "metadata": {},
   "outputs": [
    {
     "name": "stdout",
     "output_type": "stream",
     "text": [
      "unit_cost: 7.5 \n",
      "selling_price: 10.0 \n",
      "unit_refund: 2.5 \n",
      "order_quantity: 200\n"
     ]
    }
   ],
   "source": [
    "message = f\"unit_cost: {unit_cost} \\n\" \\\n",
    "          f\"selling_price: {selling_price} \\n\" \\\n",
    "          f\"unit_refund: {unit_refund} \\n\" \\\n",
    "          f\"order_quantity: {order_quantity}\"\n",
    "\n",
    "print(message)"
   ]
  },
  {
   "cell_type": "markdown",
   "metadata": {},
   "source": [
    "Again, note how we use a list comprehension to evaluate profit for each demand realization. This is exactly the same way we did the non-OO 1-way data table above. If we have multiple random inputs we cannot use multiple for statements as we don't want the cross product of the random number vectors. Instead we'd need to zip them up into tuples."
   ]
  },
  {
   "cell_type": "code",
   "execution_count": 57,
   "metadata": {},
   "outputs": [
    {
     "name": "stdout",
     "output_type": "stream",
     "text": [
      "(1, 10)\n",
      "(2, 20)\n",
      "(3, 30)\n"
     ]
    }
   ],
   "source": [
    "alpha = [1, 2, 3]\n",
    "beta = [10, 20, 30]\n",
    "\n",
    "for t in zip(alpha, beta):\n",
    "    print(t)"
   ]
  },
  {
   "cell_type": "markdown",
   "metadata": {},
   "source": [
    "Let's wrap the resulting list with the pandas `Series` constructor so that we can use some of pandas built in analysis tools such as the `describe` method."
   ]
  },
  {
   "cell_type": "code",
   "execution_count": 146,
   "metadata": {},
   "outputs": [],
   "source": [
    "profit_sim = pd.Series([(compute_profit(unit_cost, selling_price, \n",
    "                              unit_refund, order_quantity, d)) \n",
    "               for d in demand_sim])\n",
    "\n"
   ]
  },
  {
   "cell_type": "code",
   "execution_count": 147,
   "metadata": {},
   "outputs": [
    {
     "data": {
      "text/plain": [
       "count    1000.000000\n",
       "mean      317.399000\n",
       "std       228.756476\n",
       "min      -841.000000\n",
       "25%       191.750000\n",
       "50%       419.000000\n",
       "75%       500.000000\n",
       "max       500.000000\n",
       "dtype: float64"
      ]
     },
     "execution_count": 147,
     "metadata": {},
     "output_type": "execute_result"
    }
   ],
   "source": [
    "profit_sim.describe()"
   ]
  },
  {
   "cell_type": "markdown",
   "metadata": {},
   "source": [
    "The *Flaw of Averages* shows up here (compare mean of sim output to the profit we got by replacing demand with mean demand)."
   ]
  },
  {
   "cell_type": "code",
   "execution_count": 148,
   "metadata": {},
   "outputs": [
    {
     "data": {
      "image/png": "[encoded data removed]",
      "text/plain": [
       "<Figure size 432x288 with 1 Axes>"
      ]
     },
     "metadata": {},
     "output_type": "display_data"
    }
   ],
   "source": [
    "plt.title(\"Profit histogram\")\n",
    "plt.xlabel(\"Profit\")\n",
    "plt.ylabel(\"Num observations\")\n",
    "plt.hist(profit_sim, density=False);\n"
   ]
  },
  {
   "cell_type": "code",
   "execution_count": 149,
   "metadata": {},
   "outputs": [],
   "source": [
    "from scipy import stats"
   ]
  },
  {
   "cell_type": "code",
   "execution_count": 150,
   "metadata": {},
   "outputs": [
    {
     "name": "stdout",
     "output_type": "stream",
     "text": [
      "26.2\n",
      "4.0\n",
      "22.2\n"
     ]
    }
   ],
   "source": [
    "# Probability between -200, 200\n",
    "print(stats.percentileofscore(profit_sim, 200))\n",
    "print(stats.percentileofscore(profit_sim, -200))\n",
    "print(stats.percentileofscore(profit_sim, 200) - stats.percentileofscore(profit_sim, -200))"
   ]
  },
  {
   "cell_type": "code",
   "execution_count": 151,
   "metadata": {},
   "outputs": [],
   "source": [
    "cdf = stats.cumfreq(profit_sim)"
   ]
  },
  {
   "cell_type": "code",
   "execution_count": 152,
   "metadata": {},
   "outputs": [],
   "source": [
    "x = cdf.lowerlimit + np.linspace(0, cdf.binsize*cdf.cumcount.size,\n",
    "                                 cdf.cumcount.size)"
   ]
  },
  {
   "cell_type": "code",
   "execution_count": 153,
   "metadata": {},
   "outputs": [
    {
     "data": {
      "text/plain": [
       "(-915.5, 574.5)"
      ]
     },
     "execution_count": 153,
     "metadata": {},
     "output_type": "execute_result"
    },
    {
     "data": {
      "image/png": "[encoded data removed]",
      "text/plain": [
       "<Figure size 720x288 with 2 Axes>"
      ]
     },
     "metadata": {},
     "output_type": "display_data"
    }
   ],
   "source": [
    "fig = plt.figure(figsize=(10, 4))\n",
    "ax1 = fig.add_subplot(1, 2, 1)\n",
    "ax2 = fig.add_subplot(1, 2, 2)\n",
    "ax1.hist(profit_sim, bins=25)\n",
    "ax1.set_title('Histogram')\n",
    "ax2.bar(x, cdf.cumcount, width=cdf.binsize)\n",
    "ax2.set_title('Cumulative histogram')\n",
    "ax2.set_xlim([x.min(), x.max()])"
   ]
  },
  {
   "cell_type": "markdown",
   "metadata": {},
   "source": [
    "## Repeat simulation using OO approach\n",
    "Just as we leveraged our non-OO data table approach for simulation, let's do the same for the OO version. We should be able to leverage scikit-learn's `ParameterGrid` function for optional scenario generation (think RiskSimTable). We don't want to use `ParameterGrid` for the random inputs as we don't want all combinations of them - we just want to evaluate one replication per row."
   ]
  },
  {
   "cell_type": "code",
   "execution_count": 154,
   "metadata": {},
   "outputs": [],
   "source": [
    "unit_cost = 7.50\n",
    "selling_price = 10.00\n",
    "unit_refund = 2.50\n",
    "\n",
    "order_quantity = 200\n",
    "\n",
    "demand_mean = 193\n",
    "demand_sd = 40\n",
    "\n",
    "demand = demand_mean"
   ]
  },
  {
   "cell_type": "code",
   "execution_count": 155,
   "metadata": {},
   "outputs": [],
   "source": [
    "model2 = BookstoreModel(unit_cost=unit_cost, \n",
    "                        selling_price=selling_price,\n",
    "                        unit_refund=unit_refund,\n",
    "                        order_quantity=order_quantity,\n",
    "                        demand=demand)"
   ]
  },
  {
   "cell_type": "code",
   "execution_count": 156,
   "metadata": {},
   "outputs": [],
   "source": [
    "random_inputs = {'demand': np.around(rg.normal(demand_mean, demand_sd, 100))}\n",
    "scenario_inputs = {'order_quantity': np.arange(70, 321, 50)}\n",
    "sim_outputs = ['profit']"
   ]
  },
  {
   "cell_type": "code",
   "execution_count": 157,
   "metadata": {},
   "outputs": [
    {
     "name": "stdout",
     "output_type": "stream",
     "text": [
      "{'unit_cost': 7.5, 'selling_price': 10.0, 'unit_refund': 2.5, 'order_quantity': 200, 'demand': 193}\n"
     ]
    }
   ],
   "source": [
    "print(model2)"
   ]
  },
  {
   "cell_type": "code",
   "execution_count": 158,
   "metadata": {},
   "outputs": [],
   "source": [
    "# Yes, this works. Now let's see if it makes sense to do the simulation this way. Looping over scenario inputs \n",
    "# but using vector assignment for the random inputs.\n",
    "# model2.update(random_inputs)"
   ]
  },
  {
   "cell_type": "code",
   "execution_count": 159,
   "metadata": {},
   "outputs": [
    {
     "name": "stdout",
     "output_type": "stream",
     "text": [
      "{'unit_cost': 7.5, 'selling_price': 10.0, 'unit_refund': 2.5, 'order_quantity': 200, 'demand': 193}\n"
     ]
    }
   ],
   "source": [
    "print(model2)"
   ]
  },
  {
   "cell_type": "code",
   "execution_count": 160,
   "metadata": {},
   "outputs": [
    {
     "data": {
      "text/plain": [
       "[{'order_quantity': 70},\n",
       " {'order_quantity': 120},\n",
       " {'order_quantity': 170},\n",
       " {'order_quantity': 220},\n",
       " {'order_quantity': 270},\n",
       " {'order_quantity': 320}]"
      ]
     },
     "execution_count": 160,
     "metadata": {},
     "output_type": "execute_result"
    }
   ],
   "source": [
    "list(ParameterGrid(scenario_inputs))"
   ]
  },
  {
   "cell_type": "code",
   "execution_count": 161,
   "metadata": {},
   "outputs": [],
   "source": [
    "def simulate(model, random_inputs, outputs, scenario_inputs=None, keep_random_inputs=False):\n",
    "    # TODO: Checking of inputs and outputs\n",
    "    \n",
    "    # Clone the model\n",
    "    model_clone = copy.deepcopy(model)\n",
    "    \n",
    "    # Update clone with random_inputs\n",
    "    #for rnd_inp in random_inputs:\n",
    "    model_clone.update(random_inputs)\n",
    "    \n",
    "    if keep_random_inputs:\n",
    "        scenario_base_vals = vars(model_clone)\n",
    "    else:\n",
    "        scenario_base_vals = vars(model)\n",
    "    \n",
    "    \n",
    "    scenario_num = 1\n",
    "    scenario_results = []\n",
    "    \n",
    "    # Create parameter grid\n",
    "    if scenario_inputs is not None:\n",
    "        sim_param_grid = list(ParameterGrid(scenario_inputs))\n",
    "        \n",
    "        for params in sim_param_grid:\n",
    "            model_clone.update(params)\n",
    "            result = {}\n",
    "            scenario_vals = copy.copy(params)\n",
    "            result['scenario_base_vals'] = scenario_base_vals\n",
    "            result['scenario_num'] = scenario_num\n",
    "            result['scenario_vals'] = scenario_vals\n",
    "            raw_output = {}\n",
    "            for output_name in outputs:\n",
    "                output_array = getattr(model_clone, output_name)()\n",
    "                raw_output[output_name] = output_array\n",
    "                \n",
    "            result['output'] = raw_output\n",
    "            scenario_results.append(result)\n",
    "            scenario_num += 1\n",
    "                \n",
    "        return scenario_results\n",
    "\n",
    "    else:\n",
    "        results = []\n",
    "        result = {}\n",
    "\n",
    "        result['scenario_base_vals'] = scenario_base_vals\n",
    "        result['scenario_num'] = scenario_num\n",
    "        result['scenario_vals'] = {}\n",
    "        \n",
    "        raw_output = {}\n",
    "        for output_name in outputs:\n",
    "            output_array = getattr(model_clone, output_name)()\n",
    "            raw_output[output_name] = output_array\n",
    "            \n",
    "        result['output'] = raw_output  \n",
    "        results.append(result)\n",
    "\n",
    "        return results"
   ]
  },
  {
   "cell_type": "code",
   "execution_count": 162,
   "metadata": {},
   "outputs": [
    {
     "name": "stdout",
     "output_type": "stream",
     "text": [
      "{'unit_cost': 7.5, 'selling_price': 10.0, 'unit_refund': 2.5, 'order_quantity': 200, 'demand': 193}\n"
     ]
    }
   ],
   "source": [
    "print(model2)"
   ]
  },
  {
   "cell_type": "code",
   "execution_count": 163,
   "metadata": {},
   "outputs": [],
   "source": [
    "model2_results = simulate(model2, random_inputs, sim_outputs, scenario_inputs)"
   ]
  },
  {
   "cell_type": "code",
   "execution_count": 164,
   "metadata": {},
   "outputs": [
    {
     "data": {
      "text/plain": [
       "dict_keys(['scenario_base_vals', 'scenario_num', 'scenario_vals', 'output'])"
      ]
     },
     "execution_count": 164,
     "metadata": {},
     "output_type": "execute_result"
    }
   ],
   "source": [
    "model2_results[0].keys()"
   ]
  },
  {
   "cell_type": "code",
   "execution_count": 170,
   "metadata": {},
   "outputs": [
    {
     "name": "stdout",
     "output_type": "stream",
     "text": [
      "1\n",
      "2\n",
      "3\n",
      "4\n",
      "5\n",
      "6\n"
     ]
    }
   ],
   "source": [
    "for scenario in model2_results:\n",
    "    print(scenario['scenario_num'])"
   ]
  },
  {
   "cell_type": "code",
   "execution_count": 166,
   "metadata": {},
   "outputs": [
    {
     "data": {
      "text/plain": [
       "{'order_quantity': 70}"
      ]
     },
     "execution_count": 166,
     "metadata": {},
     "output_type": "execute_result"
    }
   ],
   "source": [
    "model2_results[0]['scenario_vals']"
   ]
  },
  {
   "cell_type": "code",
   "execution_count": 167,
   "metadata": {},
   "outputs": [
    {
     "name": "stdout",
     "output_type": "stream",
     "text": [
      "<class 'dict'>\n"
     ]
    },
    {
     "data": {
      "text/plain": [
       "{'profit': array([175., 175., 175., 175., 175., 175., 175., 175., 175., 175., 175.,\n",
       "        175., 175., 175., 175., 175., 175., 175., 175., 175., 175., 175.,\n",
       "        175., 175., 175., 175., 175., 175., 175., 175., 175., 175., 175.,\n",
       "        175., 175., 175., 175., 175., 175., 175., 175., 175., 175., 175.,\n",
       "        175., 175., 175., 175., 175., 175., 175., 175., 175., 175., 175.,\n",
       "        175., 175., 175., 175., 175., 175., 175., 175., 175., 175., 175.,\n",
       "        175., 175., 175., 175., 175., 175., 175., 175., 175., 175., 175.,\n",
       "        175., 175., 175., 175., 175., 175., 175., 175., 175., 175., 175.,\n",
       "        175., 175., 175., 175., 175., 175., 175., 175., 175., 175., 175.,\n",
       "        175.])}"
      ]
     },
     "execution_count": 167,
     "metadata": {},
     "output_type": "execute_result"
    }
   ],
   "source": [
    "print(type(model2_results[0]['output']))\n",
    "model2_results[0]['output']"
   ]
  },
  {
   "cell_type": "code",
   "execution_count": 168,
   "metadata": {},
   "outputs": [
    {
     "name": "stdout",
     "output_type": "stream",
     "text": [
      "1 {'order_quantity': 70} <class 'dict'> 175.0\n",
      "2 {'order_quantity': 120} <class 'dict'> 298.74\n",
      "3 {'order_quantity': 170} <class 'dict'> 356.15\n",
      "4 {'order_quantity': 220} <class 'dict'> 252.91\n",
      "5 {'order_quantity': 270} <class 'dict'> -11.88\n",
      "6 {'order_quantity': 320} <class 'dict'> -329.5\n"
     ]
    }
   ],
   "source": [
    "for scenario in model2_results:\n",
    "    print(scenario['scenario_num'], scenario['scenario_vals'], type(scenario['output']), scenario['output']['profit'].mean())"
   ]
  },
  {
   "cell_type": "code",
   "execution_count": 169,
   "metadata": {},
   "outputs": [
    {
     "data": {
      "text/plain": [
       "{'scenario_base_vals': {'unit_cost': 7.5,\n",
       "  'selling_price': 10.0,\n",
       "  'unit_refund': 2.5,\n",
       "  'order_quantity': 200,\n",
       "  'demand': 193},\n",
       " 'scenario_num': 1,\n",
       " 'scenario_vals': {'order_quantity': 70},\n",
       " 'output': {'profit': array([175., 175., 175., 175., 175., 175., 175., 175., 175., 175., 175.,\n",
       "         175., 175., 175., 175., 175., 175., 175., 175., 175., 175., 175.,\n",
       "         175., 175., 175., 175., 175., 175., 175., 175., 175., 175., 175.,\n",
       "         175., 175., 175., 175., 175., 175., 175., 175., 175., 175., 175.,\n",
       "         175., 175., 175., 175., 175., 175., 175., 175., 175., 175., 175.,\n",
       "         175., 175., 175., 175., 175., 175., 175., 175., 175., 175., 175.,\n",
       "         175., 175., 175., 175., 175., 175., 175., 175., 175., 175., 175.,\n",
       "         175., 175., 175., 175., 175., 175., 175., 175., 175., 175., 175.,\n",
       "         175., 175., 175., 175., 175., 175., 175., 175., 175., 175., 175.,\n",
       "         175.])}}"
      ]
     },
     "execution_count": 169,
     "metadata": {},
     "output_type": "execute_result"
    }
   ],
   "source": [
    "model2_results[0]"
   ]
  },
  {
   "cell_type": "code",
   "execution_count": 193,
   "metadata": {},
   "outputs": [
    {
     "name": "stdout",
     "output_type": "stream",
     "text": [
      "profit\n",
      "profit\n",
      "profit\n",
      "profit\n",
      "profit\n",
      "profit\n"
     ]
    }
   ],
   "source": [
    "for scenario in model2_results:\n",
    "    for key in scenario['output'].keys():\n",
    "        print (key)\n",
    "    "
   ]
  },
  {
   "cell_type": "markdown",
   "metadata": {},
   "source": [
    "Let's write a gather results function to turn results object into analysis ready DataFrame."
   ]
  },
  {
   "cell_type": "code",
   "execution_count": null,
   "metadata": {},
   "outputs": [],
   "source": []
  },
  {
   "cell_type": "code",
   "execution_count": null,
   "metadata": {},
   "outputs": [],
   "source": [
    "def gather_sim_results(results):\n",
    "    "
   ]
  },
  {
   "cell_type": "code",
   "execution_count": null,
   "metadata": {},
   "outputs": [],
   "source": []
  },
  {
   "cell_type": "markdown",
   "metadata": {},
   "source": [
    "Hmmm, so we have a result object but need to get them into a nicely structured DataFrame to make stats and plotting easy. Perhaps we can go back to the ParameterGrid / DataTable approach if we zip the random vectors into tuples and then create the grid. Then we get data table output for free.\n",
    "\n",
    "https://realpython.com/python-zip-function/"
   ]
  },
  {
   "cell_type": "code",
   "execution_count": 67,
   "metadata": {},
   "outputs": [],
   "source": [
    "demand_sim = np.around(rg.normal(demand_mean, demand_sd, 100))\n",
    "unit_cost_sim = np.around(rg.normal(unit_cost, 1.0, 100))"
   ]
  },
  {
   "cell_type": "code",
   "execution_count": 71,
   "metadata": {},
   "outputs": [
    {
     "name": "stdout",
     "output_type": "stream",
     "text": [
      "[(207.0, 8.0), (225.0, 7.0), (113.0, 8.0), (249.0, 7.0), (146.0, 8.0), (187.0, 7.0), (290.0, 8.0), (177.0, 6.0), (201.0, 7.0), (119.0, 8.0)]\n"
     ]
    }
   ],
   "source": [
    "random_input_tuples = list(zip(demand_sim, unit_cost_sim))\n",
    "\n",
    "print(random_input_tuples[:10])"
   ]
  },
  {
   "cell_type": "markdown",
   "metadata": {},
   "source": [
    "Ah, doesn't seem worth it."
   ]
  },
  {
   "cell_type": "markdown",
   "metadata": {},
   "source": [
    "#### Sim table of profit vs order quantity"
   ]
  },
  {
   "cell_type": "code",
   "execution_count": 196,
   "metadata": {},
   "outputs": [],
   "source": [
    "# Create data table (list of tuples)\n",
    "order_quantity_range = np.arange(100, 400, 25)\n",
    "sim_table_1 = [(oq, compute_profit(unit_cost, selling_price, unit_refund, oq, d)) \n",
    "for oq in order_quantity_range for d in demand_sim]\n",
    "\n",
    "# Convert to dataframe\n",
    "\n",
    "stbl_1_df = pd.DataFrame(sim_table_1, columns=['OrderQuantity', 'Profit'])"
   ]
  },
  {
   "cell_type": "code",
   "execution_count": 198,
   "metadata": {},
   "outputs": [
    {
     "data": {
      "image/png": "[encoded data removed]",
      "text/plain": [
       "<Figure size 648x864 with 12 Axes>"
      ]
     },
     "metadata": {
      "needs_background": "light"
     },
     "output_type": "display_data"
    }
   ],
   "source": [
    "profit_histo_g = sns.FacetGrid(stbl_1_df, col=\"OrderQuantity\", sharey=True, col_wrap=3)\n",
    "profit_histo_g = profit_histo_g.map(plt.hist, \"Profit\")"
   ]
  },
  {
   "cell_type": "code",
   "execution_count": 199,
   "metadata": {},
   "outputs": [
    {
     "data": {
      "image/png": "[encoded data removed]",
      "text/plain": [
       "<Figure size 432x288 with 1 Axes>"
      ]
     },
     "metadata": {
      "needs_background": "light"
     },
     "output_type": "display_data"
    }
   ],
   "source": [
    "profit_box_g = sns.boxplot(x=\"OrderQuantity\", y=\"Profit\", data=stbl_1_df)"
   ]
  },
  {
   "cell_type": "code",
   "execution_count": null,
   "metadata": {},
   "outputs": [],
   "source": []
  },
  {
   "cell_type": "code",
   "execution_count": null,
   "metadata": {},
   "outputs": [],
   "source": []
  }
 ],
 "metadata": {
  "kernelspec": {
   "display_name": "Python 3",
   "language": "python",
   "name": "python3"
  },
  "language_info": {
   "codemirror_mode": {
    "name": "ipython",
    "version": 3
   },
   "file_extension": ".py",
   "mimetype": "text/x-python",
   "name": "python",
   "nbconvert_exporter": "python",
   "pygments_lexer": "ipython3",
   "version": "3.8.5"
  }
 },
 "nbformat": 4,
 "nbformat_minor": 4
}
